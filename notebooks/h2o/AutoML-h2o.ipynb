{
  "nbformat": 4,
  "nbformat_minor": 0,
  "metadata": {
    "colab": {
      "name": "AutoML-h2o.ipynb",
      "provenance": [],
      "collapsed_sections": [],
      "authorship_tag": "ABX9TyOvS/rf8FbB+3ttis+HCeJ7",
      "include_colab_link": true
    },
    "kernelspec": {
      "name": "python3",
      "display_name": "Python 3"
    },
    "language_info": {
      "name": "python"
    }
  },
  "cells": [
    {
      "cell_type": "markdown",
      "metadata": {
        "id": "view-in-github",
        "colab_type": "text"
      },
      "source": [
        "<a href=\"https://colab.research.google.com/github/ykato27/AutoML-h2o/blob/main/AutoML_h2o.ipynb\" target=\"_parent\"><img src=\"https://colab.research.google.com/assets/colab-badge.svg\" alt=\"Open In Colab\"/></a>"
      ]
    },
    {
      "cell_type": "code",
      "metadata": {
        "colab": {
          "base_uri": "https://localhost:8080/"
        },
        "id": "zKnIZUj2tAI6",
        "outputId": "10dde4a4-b71c-405d-fec9-3fa8c50dfd4b"
      },
      "source": [
        "!pip install h2o"
      ],
      "execution_count": 1,
      "outputs": [
        {
          "output_type": "stream",
          "text": [
            "Requirement already satisfied: h2o in /usr/local/lib/python3.7/dist-packages (3.32.1.3)\n",
            "Requirement already satisfied: requests in /usr/local/lib/python3.7/dist-packages (from h2o) (2.23.0)\n",
            "Requirement already satisfied: tabulate in /usr/local/lib/python3.7/dist-packages (from h2o) (0.8.9)\n",
            "Requirement already satisfied: future in /usr/local/lib/python3.7/dist-packages (from h2o) (0.16.0)\n",
            "Requirement already satisfied: colorama>=0.3.8 in /usr/local/lib/python3.7/dist-packages (from h2o) (0.4.4)\n",
            "Requirement already satisfied: urllib3!=1.25.0,!=1.25.1,<1.26,>=1.21.1 in /usr/local/lib/python3.7/dist-packages (from requests->h2o) (1.24.3)\n",
            "Requirement already satisfied: certifi>=2017.4.17 in /usr/local/lib/python3.7/dist-packages (from requests->h2o) (2021.5.30)\n",
            "Requirement already satisfied: idna<3,>=2.5 in /usr/local/lib/python3.7/dist-packages (from requests->h2o) (2.10)\n",
            "Requirement already satisfied: chardet<4,>=3.0.2 in /usr/local/lib/python3.7/dist-packages (from requests->h2o) (3.0.4)\n"
          ],
          "name": "stdout"
        }
      ]
    },
    {
      "cell_type": "code",
      "metadata": {
        "colab": {
          "base_uri": "https://localhost:8080/",
          "height": 545
        },
        "id": "wJCybXF-tGZo",
        "outputId": "bded9fbb-b019-4317-b1b9-8429b9a4992a"
      },
      "source": [
        "import h2o\n",
        "from h2o.automl import H2OAutoML\n",
        "\n",
        "import sys, os, os.path\n",
        "import pandas as pd\n",
        "import numpy as np\n",
        "\n",
        "import seaborn as sns\n",
        "import matplotlib.pyplot as plt\n",
        "\n",
        "%matplotlib inline\n",
        "\n",
        "# ボストンの住宅価格データ\n",
        "from sklearn.datasets import load_boston\n",
        "\n",
        "# 前処理\n",
        "from sklearn.preprocessing import StandardScaler\n",
        "from sklearn.model_selection import train_test_split\n",
        "\n",
        "# 評価指標\n",
        "from sklearn.metrics import r2_score\n",
        "from sklearn.metrics import mean_absolute_error\n",
        "from sklearn.metrics import mean_squared_error\n",
        "\n",
        "h2o.init(\n",
        "    nthreads=-1,     # number of threads when launching a new H2O server\n",
        "    max_mem_size=12  # in gigabytes\n",
        ")"
      ],
      "execution_count": 2,
      "outputs": [
        {
          "output_type": "stream",
          "text": [
            "Checking whether there is an H2O instance running at http://localhost:54321 ..... not found.\n",
            "Attempting to start a local H2O server...\n",
            "  Java Version: openjdk version \"11.0.11\" 2021-04-20; OpenJDK Runtime Environment (build 11.0.11+9-Ubuntu-0ubuntu2.18.04); OpenJDK 64-Bit Server VM (build 11.0.11+9-Ubuntu-0ubuntu2.18.04, mixed mode, sharing)\n",
            "  Starting server from /usr/local/lib/python3.7/dist-packages/h2o/backend/bin/h2o.jar\n",
            "  Ice root: /tmp/tmpn4loe1dy\n",
            "  JVM stdout: /tmp/tmpn4loe1dy/h2o_unknownUser_started_from_python.out\n",
            "  JVM stderr: /tmp/tmpn4loe1dy/h2o_unknownUser_started_from_python.err\n",
            "  Server is running at http://127.0.0.1:54321\n",
            "Connecting to H2O server at http://127.0.0.1:54321 ... successful.\n"
          ],
          "name": "stdout"
        },
        {
          "output_type": "display_data",
          "data": {
            "text/html": [
              "<div style=\"overflow:auto\"><table style=\"width:50%\"><tr><td>H2O_cluster_uptime:</td>\n",
              "<td>02 secs</td></tr>\n",
              "<tr><td>H2O_cluster_timezone:</td>\n",
              "<td>Etc/UTC</td></tr>\n",
              "<tr><td>H2O_data_parsing_timezone:</td>\n",
              "<td>UTC</td></tr>\n",
              "<tr><td>H2O_cluster_version:</td>\n",
              "<td>3.32.1.3</td></tr>\n",
              "<tr><td>H2O_cluster_version_age:</td>\n",
              "<td>1 month and 6 days </td></tr>\n",
              "<tr><td>H2O_cluster_name:</td>\n",
              "<td>H2O_from_python_unknownUser_g023k1</td></tr>\n",
              "<tr><td>H2O_cluster_total_nodes:</td>\n",
              "<td>1</td></tr>\n",
              "<tr><td>H2O_cluster_free_memory:</td>\n",
              "<td>12 Gb</td></tr>\n",
              "<tr><td>H2O_cluster_total_cores:</td>\n",
              "<td>2</td></tr>\n",
              "<tr><td>H2O_cluster_allowed_cores:</td>\n",
              "<td>2</td></tr>\n",
              "<tr><td>H2O_cluster_status:</td>\n",
              "<td>accepting new members, healthy</td></tr>\n",
              "<tr><td>H2O_connection_url:</td>\n",
              "<td>http://127.0.0.1:54321</td></tr>\n",
              "<tr><td>H2O_connection_proxy:</td>\n",
              "<td>{\"http\": null, \"https\": null}</td></tr>\n",
              "<tr><td>H2O_internal_security:</td>\n",
              "<td>False</td></tr>\n",
              "<tr><td>H2O_API_Extensions:</td>\n",
              "<td>Amazon S3, XGBoost, Algos, AutoML, Core V3, TargetEncoder, Core V4</td></tr>\n",
              "<tr><td>Python_version:</td>\n",
              "<td>3.7.10 final</td></tr></table></div>"
            ],
            "text/plain": [
              "--------------------------  ------------------------------------------------------------------\n",
              "H2O_cluster_uptime:         02 secs\n",
              "H2O_cluster_timezone:       Etc/UTC\n",
              "H2O_data_parsing_timezone:  UTC\n",
              "H2O_cluster_version:        3.32.1.3\n",
              "H2O_cluster_version_age:    1 month and 6 days\n",
              "H2O_cluster_name:           H2O_from_python_unknownUser_g023k1\n",
              "H2O_cluster_total_nodes:    1\n",
              "H2O_cluster_free_memory:    12 Gb\n",
              "H2O_cluster_total_cores:    2\n",
              "H2O_cluster_allowed_cores:  2\n",
              "H2O_cluster_status:         accepting new members, healthy\n",
              "H2O_connection_url:         http://127.0.0.1:54321\n",
              "H2O_connection_proxy:       {\"http\": null, \"https\": null}\n",
              "H2O_internal_security:      False\n",
              "H2O_API_Extensions:         Amazon S3, XGBoost, Algos, AutoML, Core V3, TargetEncoder, Core V4\n",
              "Python_version:             3.7.10 final\n",
              "--------------------------  ------------------------------------------------------------------"
            ]
          },
          "metadata": {
            "tags": []
          }
        }
      ]
    },
    {
      "cell_type": "code",
      "metadata": {
        "colab": {
          "base_uri": "https://localhost:8080/",
          "height": 224
        },
        "id": "wCJOJ_xhtxwJ",
        "outputId": "52af10ce-efe8-4d4f-fbad-659583118a67"
      },
      "source": [
        "# データセットの読込み\n",
        "boston = load_boston()\n",
        "\n",
        "# 説明変数の格納\n",
        "df = pd.DataFrame(boston.data, columns=boston.feature_names)\n",
        "# 目的変数の追加\n",
        "df[\"MEDV\"] = boston.target\n",
        "\n",
        "# データの中身を確認\n",
        "df.head()"
      ],
      "execution_count": 3,
      "outputs": [
        {
          "output_type": "execute_result",
          "data": {
            "text/html": [
              "<div>\n",
              "<style scoped>\n",
              "    .dataframe tbody tr th:only-of-type {\n",
              "        vertical-align: middle;\n",
              "    }\n",
              "\n",
              "    .dataframe tbody tr th {\n",
              "        vertical-align: top;\n",
              "    }\n",
              "\n",
              "    .dataframe thead th {\n",
              "        text-align: right;\n",
              "    }\n",
              "</style>\n",
              "<table border=\"1\" class=\"dataframe\">\n",
              "  <thead>\n",
              "    <tr style=\"text-align: right;\">\n",
              "      <th></th>\n",
              "      <th>CRIM</th>\n",
              "      <th>ZN</th>\n",
              "      <th>INDUS</th>\n",
              "      <th>CHAS</th>\n",
              "      <th>NOX</th>\n",
              "      <th>RM</th>\n",
              "      <th>AGE</th>\n",
              "      <th>DIS</th>\n",
              "      <th>RAD</th>\n",
              "      <th>TAX</th>\n",
              "      <th>PTRATIO</th>\n",
              "      <th>B</th>\n",
              "      <th>LSTAT</th>\n",
              "      <th>MEDV</th>\n",
              "    </tr>\n",
              "  </thead>\n",
              "  <tbody>\n",
              "    <tr>\n",
              "      <th>0</th>\n",
              "      <td>0.00632</td>\n",
              "      <td>18.0</td>\n",
              "      <td>2.31</td>\n",
              "      <td>0.0</td>\n",
              "      <td>0.538</td>\n",
              "      <td>6.575</td>\n",
              "      <td>65.2</td>\n",
              "      <td>4.0900</td>\n",
              "      <td>1.0</td>\n",
              "      <td>296.0</td>\n",
              "      <td>15.3</td>\n",
              "      <td>396.90</td>\n",
              "      <td>4.98</td>\n",
              "      <td>24.0</td>\n",
              "    </tr>\n",
              "    <tr>\n",
              "      <th>1</th>\n",
              "      <td>0.02731</td>\n",
              "      <td>0.0</td>\n",
              "      <td>7.07</td>\n",
              "      <td>0.0</td>\n",
              "      <td>0.469</td>\n",
              "      <td>6.421</td>\n",
              "      <td>78.9</td>\n",
              "      <td>4.9671</td>\n",
              "      <td>2.0</td>\n",
              "      <td>242.0</td>\n",
              "      <td>17.8</td>\n",
              "      <td>396.90</td>\n",
              "      <td>9.14</td>\n",
              "      <td>21.6</td>\n",
              "    </tr>\n",
              "    <tr>\n",
              "      <th>2</th>\n",
              "      <td>0.02729</td>\n",
              "      <td>0.0</td>\n",
              "      <td>7.07</td>\n",
              "      <td>0.0</td>\n",
              "      <td>0.469</td>\n",
              "      <td>7.185</td>\n",
              "      <td>61.1</td>\n",
              "      <td>4.9671</td>\n",
              "      <td>2.0</td>\n",
              "      <td>242.0</td>\n",
              "      <td>17.8</td>\n",
              "      <td>392.83</td>\n",
              "      <td>4.03</td>\n",
              "      <td>34.7</td>\n",
              "    </tr>\n",
              "    <tr>\n",
              "      <th>3</th>\n",
              "      <td>0.03237</td>\n",
              "      <td>0.0</td>\n",
              "      <td>2.18</td>\n",
              "      <td>0.0</td>\n",
              "      <td>0.458</td>\n",
              "      <td>6.998</td>\n",
              "      <td>45.8</td>\n",
              "      <td>6.0622</td>\n",
              "      <td>3.0</td>\n",
              "      <td>222.0</td>\n",
              "      <td>18.7</td>\n",
              "      <td>394.63</td>\n",
              "      <td>2.94</td>\n",
              "      <td>33.4</td>\n",
              "    </tr>\n",
              "    <tr>\n",
              "      <th>4</th>\n",
              "      <td>0.06905</td>\n",
              "      <td>0.0</td>\n",
              "      <td>2.18</td>\n",
              "      <td>0.0</td>\n",
              "      <td>0.458</td>\n",
              "      <td>7.147</td>\n",
              "      <td>54.2</td>\n",
              "      <td>6.0622</td>\n",
              "      <td>3.0</td>\n",
              "      <td>222.0</td>\n",
              "      <td>18.7</td>\n",
              "      <td>396.90</td>\n",
              "      <td>5.33</td>\n",
              "      <td>36.2</td>\n",
              "    </tr>\n",
              "  </tbody>\n",
              "</table>\n",
              "</div>"
            ],
            "text/plain": [
              "      CRIM    ZN  INDUS  CHAS    NOX  ...    TAX  PTRATIO       B  LSTAT  MEDV\n",
              "0  0.00632  18.0   2.31   0.0  0.538  ...  296.0     15.3  396.90   4.98  24.0\n",
              "1  0.02731   0.0   7.07   0.0  0.469  ...  242.0     17.8  396.90   9.14  21.6\n",
              "2  0.02729   0.0   7.07   0.0  0.469  ...  242.0     17.8  392.83   4.03  34.7\n",
              "3  0.03237   0.0   2.18   0.0  0.458  ...  222.0     18.7  394.63   2.94  33.4\n",
              "4  0.06905   0.0   2.18   0.0  0.458  ...  222.0     18.7  396.90   5.33  36.2\n",
              "\n",
              "[5 rows x 14 columns]"
            ]
          },
          "metadata": {
            "tags": []
          },
          "execution_count": 3
        }
      ]
    },
    {
      "cell_type": "code",
      "metadata": {
        "id": "ke3nuTXNt1Tq"
      },
      "source": [
        "# ランダムシード値\n",
        "RANDOM_STATE = 10\n",
        "\n",
        "# 学習データと評価データの割合\n",
        "TEST_SIZE = 0.2\n",
        "\n",
        "# 学習データと評価データを作成\n",
        "x_train, x_test, y_train, y_test = train_test_split(\n",
        "    df.iloc[:, 0 : df.shape[1] - 1],\n",
        "    df.iloc[:, df.shape[1] - 1],\n",
        "    test_size=TEST_SIZE,\n",
        "    random_state=RANDOM_STATE,\n",
        ")"
      ],
      "execution_count": 4,
      "outputs": []
    },
    {
      "cell_type": "code",
      "metadata": {
        "colab": {
          "base_uri": "https://localhost:8080/"
        },
        "id": "6CdYMYgFtaEH",
        "outputId": "860ecce8-4104-46da-d7bb-3f93677db0f8"
      },
      "source": [
        "train = pd.merge(x_train, y_train, left_index=True, right_index=True)\n",
        "test = pd.merge(x_test, y_test, left_index=True, right_index=True)\n",
        "\n",
        "h2o_train = h2o.H2OFrame(train)\n",
        "h2o_test = h2o.H2OFrame(test)"
      ],
      "execution_count": 5,
      "outputs": [
        {
          "output_type": "stream",
          "text": [
            "Parse progress: |█████████████████████████████████████████████████████████| 100%\n",
            "Parse progress: |█████████████████████████████████████████████████████████| 100%\n"
          ],
          "name": "stdout"
        }
      ]
    },
    {
      "cell_type": "code",
      "metadata": {
        "colab": {
          "base_uri": "https://localhost:8080/"
        },
        "id": "EBulwvP8zD6B",
        "outputId": "2a3a870a-4bf2-4565-c4b4-2605f5b39c28"
      },
      "source": [
        "# 説明変数/目的変数のカラムを指定\n",
        "kw = h2o.H2OFrame(list(h2o_train.columns))\n",
        "\n",
        "feature_cols = kw.columns[:-1]\n",
        "target_cols = \"MEDV\""
      ],
      "execution_count": 6,
      "outputs": [
        {
          "output_type": "stream",
          "text": [
            "Parse progress: |█████████████████████████████████████████████████████████| 100%\n"
          ],
          "name": "stdout"
        }
      ]
    },
    {
      "cell_type": "code",
      "metadata": {
        "colab": {
          "base_uri": "https://localhost:8080/"
        },
        "id": "oe-pP2IbtaeB",
        "outputId": "8c014392-e509-40bf-fd37-bce630b3dd02"
      },
      "source": [
        "%%time\n",
        "# max_runtime_secsは最大実行時間を指定\n",
        "aml = H2OAutoML(\n",
        "    max_runtime_secs=30,  # 30 sec\n",
        "    max_models=None,  # no limit\n",
        "    stopping_metric ='rmse',\n",
        "    sort_metric ='rmse',\n",
        "    seed = RANDOM_STATE,\n",
        "    )\n",
        "\n",
        "aml.train(\n",
        "    y=target_cols,\n",
        "    training_frame=h2o_train,\n",
        "    )"
      ],
      "execution_count": 7,
      "outputs": [
        {
          "output_type": "stream",
          "text": [
            "AutoML progress: |████████████████████████████████████████████████████████| 100%\n",
            "CPU times: user 4.84 s, sys: 182 ms, total: 5.02 s\n",
            "Wall time: 33 s\n"
          ],
          "name": "stdout"
        }
      ]
    },
    {
      "cell_type": "code",
      "metadata": {
        "colab": {
          "base_uri": "https://localhost:8080/",
          "height": 627
        },
        "id": "-6wotE3Hu9Bu",
        "outputId": "475568e4-a967-44d2-f527-44dfde5e790e"
      },
      "source": [
        "#スコアの高いモデル順に並び変え\n",
        "lb = aml.leaderboard\n",
        "lb.head(rows=lb.nrows)"
      ],
      "execution_count": 8,
      "outputs": [
        {
          "output_type": "display_data",
          "data": {
            "text/html": [
              "<table>\n",
              "<thead>\n",
              "<tr><th>model_id                                           </th><th style=\"text-align: right;\">    rmse</th><th style=\"text-align: right;\">  mean_residual_deviance</th><th style=\"text-align: right;\">     mse</th><th style=\"text-align: right;\">    mae</th><th style=\"text-align: right;\">   rmsle</th></tr>\n",
              "</thead>\n",
              "<tbody>\n",
              "<tr><td>XGBoost_grid__1_AutoML_20210626_015741_model_2     </td><td style=\"text-align: right;\"> 3.19587</td><td style=\"text-align: right;\">                 10.2136</td><td style=\"text-align: right;\"> 10.2136</td><td style=\"text-align: right;\">2.20228</td><td style=\"text-align: right;\">0.151833</td></tr>\n",
              "<tr><td>StackedEnsemble_BestOfFamily_AutoML_20210626_015741</td><td style=\"text-align: right;\"> 3.20552</td><td style=\"text-align: right;\">                 10.2754</td><td style=\"text-align: right;\"> 10.2754</td><td style=\"text-align: right;\">2.16786</td><td style=\"text-align: right;\">0.150956</td></tr>\n",
              "<tr><td>GBM_grid__1_AutoML_20210626_015741_model_2         </td><td style=\"text-align: right;\"> 3.31107</td><td style=\"text-align: right;\">                 10.9632</td><td style=\"text-align: right;\"> 10.9632</td><td style=\"text-align: right;\">2.22769</td><td style=\"text-align: right;\">0.157146</td></tr>\n",
              "<tr><td>XGBoost_grid__1_AutoML_20210626_015741_model_1     </td><td style=\"text-align: right;\"> 3.34327</td><td style=\"text-align: right;\">                 11.1775</td><td style=\"text-align: right;\"> 11.1775</td><td style=\"text-align: right;\">2.21535</td><td style=\"text-align: right;\">0.157374</td></tr>\n",
              "<tr><td>StackedEnsemble_AllModels_AutoML_20210626_015741   </td><td style=\"text-align: right;\"> 3.35611</td><td style=\"text-align: right;\">                 11.2635</td><td style=\"text-align: right;\"> 11.2635</td><td style=\"text-align: right;\">2.24106</td><td style=\"text-align: right;\">0.156368</td></tr>\n",
              "<tr><td>XGBoost_grid__1_AutoML_20210626_015741_model_4     </td><td style=\"text-align: right;\"> 3.40357</td><td style=\"text-align: right;\">                 11.5843</td><td style=\"text-align: right;\"> 11.5843</td><td style=\"text-align: right;\">2.37371</td><td style=\"text-align: right;\">0.166969</td></tr>\n",
              "<tr><td>XGBoost_grid__1_AutoML_20210626_015741_model_6     </td><td style=\"text-align: right;\"> 3.41653</td><td style=\"text-align: right;\">                 11.6727</td><td style=\"text-align: right;\"> 11.6727</td><td style=\"text-align: right;\">2.27024</td><td style=\"text-align: right;\">0.147409</td></tr>\n",
              "<tr><td>XGBoost_grid__1_AutoML_20210626_015741_model_5     </td><td style=\"text-align: right;\"> 3.469  </td><td style=\"text-align: right;\">                 12.034 </td><td style=\"text-align: right;\"> 12.034 </td><td style=\"text-align: right;\">2.42595</td><td style=\"text-align: right;\">0.165229</td></tr>\n",
              "<tr><td>XGBoost_3_AutoML_20210626_015741                   </td><td style=\"text-align: right;\"> 3.48113</td><td style=\"text-align: right;\">                 12.1183</td><td style=\"text-align: right;\"> 12.1183</td><td style=\"text-align: right;\">2.39609</td><td style=\"text-align: right;\">0.166242</td></tr>\n",
              "<tr><td>XGBoost_2_AutoML_20210626_015741                   </td><td style=\"text-align: right;\"> 3.54577</td><td style=\"text-align: right;\">                 12.5725</td><td style=\"text-align: right;\"> 12.5725</td><td style=\"text-align: right;\">2.39016</td><td style=\"text-align: right;\">0.16461 </td></tr>\n",
              "<tr><td>XGBoost_grid__1_AutoML_20210626_015741_model_3     </td><td style=\"text-align: right;\"> 3.73328</td><td style=\"text-align: right;\">                 13.9373</td><td style=\"text-align: right;\"> 13.9373</td><td style=\"text-align: right;\">2.45021</td><td style=\"text-align: right;\">0.161169</td></tr>\n",
              "<tr><td>GBM_grid__1_AutoML_20210626_015741_model_3         </td><td style=\"text-align: right;\"> 4.0409 </td><td style=\"text-align: right;\">                 16.3289</td><td style=\"text-align: right;\"> 16.3289</td><td style=\"text-align: right;\">2.75678</td><td style=\"text-align: right;\">0.187527</td></tr>\n",
              "<tr><td>GLM_1_AutoML_20210626_015741                       </td><td style=\"text-align: right;\"> 4.71116</td><td style=\"text-align: right;\">                 22.195 </td><td style=\"text-align: right;\"> 22.195 </td><td style=\"text-align: right;\">3.16006</td><td style=\"text-align: right;\">0.238895</td></tr>\n",
              "<tr><td>GBM_1_AutoML_20210626_015741                       </td><td style=\"text-align: right;\"> 4.74307</td><td style=\"text-align: right;\">                 22.4967</td><td style=\"text-align: right;\"> 22.4967</td><td style=\"text-align: right;\">3.283  </td><td style=\"text-align: right;\">0.225468</td></tr>\n",
              "<tr><td>XRT_1_AutoML_20210626_015741                       </td><td style=\"text-align: right;\"> 4.88533</td><td style=\"text-align: right;\">                 23.8665</td><td style=\"text-align: right;\"> 23.8665</td><td style=\"text-align: right;\">3.1366 </td><td style=\"text-align: right;\">0.220186</td></tr>\n",
              "<tr><td>DRF_1_AutoML_20210626_015741                       </td><td style=\"text-align: right;\"> 5.05003</td><td style=\"text-align: right;\">                 25.5028</td><td style=\"text-align: right;\"> 25.5028</td><td style=\"text-align: right;\">3.29711</td><td style=\"text-align: right;\">0.222505</td></tr>\n",
              "<tr><td>DeepLearning_grid__2_AutoML_20210626_015741_model_1</td><td style=\"text-align: right;\"> 5.1539 </td><td style=\"text-align: right;\">                 26.5627</td><td style=\"text-align: right;\"> 26.5627</td><td style=\"text-align: right;\">3.32228</td><td style=\"text-align: right;\">0.215025</td></tr>\n",
              "<tr><td>GBM_3_AutoML_20210626_015741                       </td><td style=\"text-align: right;\"> 5.1726 </td><td style=\"text-align: right;\">                 26.7558</td><td style=\"text-align: right;\"> 26.7558</td><td style=\"text-align: right;\">3.50169</td><td style=\"text-align: right;\">0.239612</td></tr>\n",
              "<tr><td>DeepLearning_grid__1_AutoML_20210626_015741_model_1</td><td style=\"text-align: right;\"> 5.20421</td><td style=\"text-align: right;\">                 27.0838</td><td style=\"text-align: right;\"> 27.0838</td><td style=\"text-align: right;\">3.1291 </td><td style=\"text-align: right;\">0.269725</td></tr>\n",
              "<tr><td>GBM_4_AutoML_20210626_015741                       </td><td style=\"text-align: right;\"> 5.56042</td><td style=\"text-align: right;\">                 30.9183</td><td style=\"text-align: right;\"> 30.9183</td><td style=\"text-align: right;\">3.80103</td><td style=\"text-align: right;\">0.258684</td></tr>\n",
              "<tr><td>DeepLearning_grid__3_AutoML_20210626_015741_model_1</td><td style=\"text-align: right;\"> 5.58542</td><td style=\"text-align: right;\">                 31.1969</td><td style=\"text-align: right;\"> 31.1969</td><td style=\"text-align: right;\">3.5304 </td><td style=\"text-align: right;\">0.227765</td></tr>\n",
              "<tr><td>GBM_5_AutoML_20210626_015741                       </td><td style=\"text-align: right;\"> 5.60399</td><td style=\"text-align: right;\">                 31.4047</td><td style=\"text-align: right;\"> 31.4047</td><td style=\"text-align: right;\">3.84322</td><td style=\"text-align: right;\">0.243021</td></tr>\n",
              "<tr><td>GBM_2_AutoML_20210626_015741                       </td><td style=\"text-align: right;\"> 5.83811</td><td style=\"text-align: right;\">                 34.0835</td><td style=\"text-align: right;\"> 34.0835</td><td style=\"text-align: right;\">4.05985</td><td style=\"text-align: right;\">0.267912</td></tr>\n",
              "<tr><td>GBM_grid__1_AutoML_20210626_015741_model_1         </td><td style=\"text-align: right;\"> 5.9224 </td><td style=\"text-align: right;\">                 35.0748</td><td style=\"text-align: right;\"> 35.0748</td><td style=\"text-align: right;\">3.90731</td><td style=\"text-align: right;\">0.251146</td></tr>\n",
              "<tr><td>DeepLearning_1_AutoML_20210626_015741              </td><td style=\"text-align: right;\"> 6.49625</td><td style=\"text-align: right;\">                 42.2012</td><td style=\"text-align: right;\"> 42.2012</td><td style=\"text-align: right;\">4.41418</td><td style=\"text-align: right;\">0.303254</td></tr>\n",
              "<tr><td>XGBoost_1_AutoML_20210626_015741                   </td><td style=\"text-align: right;\">10.6093 </td><td style=\"text-align: right;\">                112.557 </td><td style=\"text-align: right;\">112.557 </td><td style=\"text-align: right;\">7.3832 </td><td style=\"text-align: right;\">0.686755</td></tr>\n",
              "<tr><td>XGBoost_grid__1_AutoML_20210626_015741_model_7     </td><td style=\"text-align: right;\">11.461  </td><td style=\"text-align: right;\">                131.355 </td><td style=\"text-align: right;\">131.355 </td><td style=\"text-align: right;\">8.76962</td><td style=\"text-align: right;\">0.698065</td></tr>\n",
              "</tbody>\n",
              "</table>"
            ]
          },
          "metadata": {
            "tags": []
          }
        },
        {
          "output_type": "execute_result",
          "data": {
            "text/plain": [
              ""
            ]
          },
          "metadata": {
            "tags": []
          },
          "execution_count": 8
        }
      ]
    },
    {
      "cell_type": "code",
      "metadata": {
        "colab": {
          "base_uri": "https://localhost:8080/",
          "height": 1000
        },
        "id": "0WGxw0GI7Wo7",
        "outputId": "54ba3b02-91f5-438e-ee56-79db9c823b10"
      },
      "source": [
        "# Get the top model of leaderboard\n",
        "aml.leader"
      ],
      "execution_count": 9,
      "outputs": [
        {
          "output_type": "stream",
          "text": [
            "Model Details\n",
            "=============\n",
            "H2OXGBoostEstimator :  XGBoost\n",
            "Model Key:  XGBoost_grid__1_AutoML_20210626_015741_model_2\n",
            "\n",
            "\n",
            "Model Summary: \n"
          ],
          "name": "stdout"
        },
        {
          "output_type": "display_data",
          "data": {
            "text/html": [
              "<div>\n",
              "<style scoped>\n",
              "    .dataframe tbody tr th:only-of-type {\n",
              "        vertical-align: middle;\n",
              "    }\n",
              "\n",
              "    .dataframe tbody tr th {\n",
              "        vertical-align: top;\n",
              "    }\n",
              "\n",
              "    .dataframe thead th {\n",
              "        text-align: right;\n",
              "    }\n",
              "</style>\n",
              "<table border=\"1\" class=\"dataframe\">\n",
              "  <thead>\n",
              "    <tr style=\"text-align: right;\">\n",
              "      <th></th>\n",
              "      <th></th>\n",
              "      <th>number_of_trees</th>\n",
              "    </tr>\n",
              "  </thead>\n",
              "  <tbody>\n",
              "    <tr>\n",
              "      <th>0</th>\n",
              "      <td></td>\n",
              "      <td>51.0</td>\n",
              "    </tr>\n",
              "  </tbody>\n",
              "</table>\n",
              "</div>"
            ],
            "text/plain": [
              "     number_of_trees\n",
              "0               51.0"
            ]
          },
          "metadata": {
            "tags": []
          }
        },
        {
          "output_type": "stream",
          "text": [
            "\n",
            "\n",
            "ModelMetricsRegression: xgboost\n",
            "** Reported on train data. **\n",
            "\n",
            "MSE: 0.838590800098565\n",
            "RMSE: 0.9157460347162661\n",
            "MAE: 0.6549287715760788\n",
            "RMSLE: 0.04671028674980109\n",
            "Mean Residual Deviance: 0.838590800098565\n",
            "\n",
            "ModelMetricsRegression: xgboost\n",
            "** Reported on cross-validation data. **\n",
            "\n",
            "MSE: 10.213601193133211\n",
            "RMSE: 3.1958725245436828\n",
            "MAE: 2.2022834638557813\n",
            "RMSLE: 0.1518326052905409\n",
            "Mean Residual Deviance: 10.213601193133211\n",
            "\n",
            "Cross-Validation Metrics Summary: \n"
          ],
          "name": "stdout"
        },
        {
          "output_type": "display_data",
          "data": {
            "text/html": [
              "<div>\n",
              "<style scoped>\n",
              "    .dataframe tbody tr th:only-of-type {\n",
              "        vertical-align: middle;\n",
              "    }\n",
              "\n",
              "    .dataframe tbody tr th {\n",
              "        vertical-align: top;\n",
              "    }\n",
              "\n",
              "    .dataframe thead th {\n",
              "        text-align: right;\n",
              "    }\n",
              "</style>\n",
              "<table border=\"1\" class=\"dataframe\">\n",
              "  <thead>\n",
              "    <tr style=\"text-align: right;\">\n",
              "      <th></th>\n",
              "      <th></th>\n",
              "      <th>mean</th>\n",
              "      <th>sd</th>\n",
              "      <th>cv_1_valid</th>\n",
              "      <th>cv_2_valid</th>\n",
              "      <th>cv_3_valid</th>\n",
              "      <th>cv_4_valid</th>\n",
              "      <th>cv_5_valid</th>\n",
              "    </tr>\n",
              "  </thead>\n",
              "  <tbody>\n",
              "    <tr>\n",
              "      <th>0</th>\n",
              "      <td>mae</td>\n",
              "      <td>2.2017617</td>\n",
              "      <td>0.13352625</td>\n",
              "      <td>2.3332224</td>\n",
              "      <td>2.1583037</td>\n",
              "      <td>2.272711</td>\n",
              "      <td>2.253587</td>\n",
              "      <td>1.9909848</td>\n",
              "    </tr>\n",
              "    <tr>\n",
              "      <th>1</th>\n",
              "      <td>mean_residual_deviance</td>\n",
              "      <td>10.205462</td>\n",
              "      <td>2.5901244</td>\n",
              "      <td>13.705225</td>\n",
              "      <td>8.704645</td>\n",
              "      <td>10.261615</td>\n",
              "      <td>11.438369</td>\n",
              "      <td>6.917458</td>\n",
              "    </tr>\n",
              "    <tr>\n",
              "      <th>2</th>\n",
              "      <td>mse</td>\n",
              "      <td>10.205462</td>\n",
              "      <td>2.5901244</td>\n",
              "      <td>13.705225</td>\n",
              "      <td>8.704645</td>\n",
              "      <td>10.261615</td>\n",
              "      <td>11.438369</td>\n",
              "      <td>6.917458</td>\n",
              "    </tr>\n",
              "    <tr>\n",
              "      <th>3</th>\n",
              "      <td>r2</td>\n",
              "      <td>0.863989</td>\n",
              "      <td>0.041528296</td>\n",
              "      <td>0.8075872</td>\n",
              "      <td>0.87932706</td>\n",
              "      <td>0.8513178</td>\n",
              "      <td>0.8602157</td>\n",
              "      <td>0.92149717</td>\n",
              "    </tr>\n",
              "    <tr>\n",
              "      <th>4</th>\n",
              "      <td>residual_deviance</td>\n",
              "      <td>10.205462</td>\n",
              "      <td>2.5901244</td>\n",
              "      <td>13.705225</td>\n",
              "      <td>8.704645</td>\n",
              "      <td>10.261615</td>\n",
              "      <td>11.438369</td>\n",
              "      <td>6.917458</td>\n",
              "    </tr>\n",
              "    <tr>\n",
              "      <th>5</th>\n",
              "      <td>rmse</td>\n",
              "      <td>3.1735935</td>\n",
              "      <td>0.40891057</td>\n",
              "      <td>3.702057</td>\n",
              "      <td>2.9503636</td>\n",
              "      <td>3.2033756</td>\n",
              "      <td>3.3820658</td>\n",
              "      <td>2.6301062</td>\n",
              "    </tr>\n",
              "    <tr>\n",
              "      <th>6</th>\n",
              "      <td>rmsle</td>\n",
              "      <td>0.15101969</td>\n",
              "      <td>0.017219953</td>\n",
              "      <td>0.16159286</td>\n",
              "      <td>0.12684318</td>\n",
              "      <td>0.16780958</td>\n",
              "      <td>0.15949704</td>\n",
              "      <td>0.13935581</td>\n",
              "    </tr>\n",
              "  </tbody>\n",
              "</table>\n",
              "</div>"
            ],
            "text/plain": [
              "                                 mean  ...  cv_4_valid  cv_5_valid\n",
              "0                     mae   2.2017617  ...    2.253587   1.9909848\n",
              "1  mean_residual_deviance   10.205462  ...   11.438369    6.917458\n",
              "2                     mse   10.205462  ...   11.438369    6.917458\n",
              "3                      r2    0.863989  ...   0.8602157  0.92149717\n",
              "4       residual_deviance   10.205462  ...   11.438369    6.917458\n",
              "5                    rmse   3.1735935  ...   3.3820658   2.6301062\n",
              "6                   rmsle  0.15101969  ...  0.15949704  0.13935581\n",
              "\n",
              "[7 rows x 8 columns]"
            ]
          },
          "metadata": {
            "tags": []
          }
        },
        {
          "output_type": "stream",
          "text": [
            "\n",
            "Scoring History: \n"
          ],
          "name": "stdout"
        },
        {
          "output_type": "display_data",
          "data": {
            "text/html": [
              "<div>\n",
              "<style scoped>\n",
              "    .dataframe tbody tr th:only-of-type {\n",
              "        vertical-align: middle;\n",
              "    }\n",
              "\n",
              "    .dataframe tbody tr th {\n",
              "        vertical-align: top;\n",
              "    }\n",
              "\n",
              "    .dataframe thead th {\n",
              "        text-align: right;\n",
              "    }\n",
              "</style>\n",
              "<table border=\"1\" class=\"dataframe\">\n",
              "  <thead>\n",
              "    <tr style=\"text-align: right;\">\n",
              "      <th></th>\n",
              "      <th></th>\n",
              "      <th>timestamp</th>\n",
              "      <th>duration</th>\n",
              "      <th>number_of_trees</th>\n",
              "      <th>training_rmse</th>\n",
              "      <th>training_mae</th>\n",
              "      <th>training_deviance</th>\n",
              "    </tr>\n",
              "  </thead>\n",
              "  <tbody>\n",
              "    <tr>\n",
              "      <th>0</th>\n",
              "      <td></td>\n",
              "      <td>2021-06-26 01:57:59</td>\n",
              "      <td>2.177 sec</td>\n",
              "      <td>0.0</td>\n",
              "      <td>23.074545</td>\n",
              "      <td>21.341832</td>\n",
              "      <td>532.434631</td>\n",
              "    </tr>\n",
              "    <tr>\n",
              "      <th>1</th>\n",
              "      <td></td>\n",
              "      <td>2021-06-26 01:57:59</td>\n",
              "      <td>2.191 sec</td>\n",
              "      <td>5.0</td>\n",
              "      <td>6.615638</td>\n",
              "      <td>4.655270</td>\n",
              "      <td>43.766660</td>\n",
              "    </tr>\n",
              "    <tr>\n",
              "      <th>2</th>\n",
              "      <td></td>\n",
              "      <td>2021-06-26 01:57:59</td>\n",
              "      <td>2.201 sec</td>\n",
              "      <td>10.0</td>\n",
              "      <td>3.713856</td>\n",
              "      <td>2.187642</td>\n",
              "      <td>13.792726</td>\n",
              "    </tr>\n",
              "    <tr>\n",
              "      <th>3</th>\n",
              "      <td></td>\n",
              "      <td>2021-06-26 01:57:59</td>\n",
              "      <td>2.212 sec</td>\n",
              "      <td>15.0</td>\n",
              "      <td>2.677808</td>\n",
              "      <td>1.628269</td>\n",
              "      <td>7.170656</td>\n",
              "    </tr>\n",
              "    <tr>\n",
              "      <th>4</th>\n",
              "      <td></td>\n",
              "      <td>2021-06-26 01:57:59</td>\n",
              "      <td>2.230 sec</td>\n",
              "      <td>20.0</td>\n",
              "      <td>2.148995</td>\n",
              "      <td>1.380848</td>\n",
              "      <td>4.618180</td>\n",
              "    </tr>\n",
              "    <tr>\n",
              "      <th>5</th>\n",
              "      <td></td>\n",
              "      <td>2021-06-26 01:57:59</td>\n",
              "      <td>2.244 sec</td>\n",
              "      <td>25.0</td>\n",
              "      <td>1.779495</td>\n",
              "      <td>1.174594</td>\n",
              "      <td>3.166601</td>\n",
              "    </tr>\n",
              "    <tr>\n",
              "      <th>6</th>\n",
              "      <td></td>\n",
              "      <td>2021-06-26 01:57:59</td>\n",
              "      <td>2.259 sec</td>\n",
              "      <td>30.0</td>\n",
              "      <td>1.541492</td>\n",
              "      <td>1.048642</td>\n",
              "      <td>2.376199</td>\n",
              "    </tr>\n",
              "    <tr>\n",
              "      <th>7</th>\n",
              "      <td></td>\n",
              "      <td>2021-06-26 01:57:59</td>\n",
              "      <td>2.277 sec</td>\n",
              "      <td>35.0</td>\n",
              "      <td>1.335966</td>\n",
              "      <td>0.924262</td>\n",
              "      <td>1.784806</td>\n",
              "    </tr>\n",
              "    <tr>\n",
              "      <th>8</th>\n",
              "      <td></td>\n",
              "      <td>2021-06-26 01:57:59</td>\n",
              "      <td>2.295 sec</td>\n",
              "      <td>40.0</td>\n",
              "      <td>1.156918</td>\n",
              "      <td>0.811169</td>\n",
              "      <td>1.338460</td>\n",
              "    </tr>\n",
              "    <tr>\n",
              "      <th>9</th>\n",
              "      <td></td>\n",
              "      <td>2021-06-26 01:57:59</td>\n",
              "      <td>2.314 sec</td>\n",
              "      <td>45.0</td>\n",
              "      <td>1.040091</td>\n",
              "      <td>0.735423</td>\n",
              "      <td>1.081790</td>\n",
              "    </tr>\n",
              "    <tr>\n",
              "      <th>10</th>\n",
              "      <td></td>\n",
              "      <td>2021-06-26 01:57:59</td>\n",
              "      <td>2.335 sec</td>\n",
              "      <td>50.0</td>\n",
              "      <td>0.930615</td>\n",
              "      <td>0.667311</td>\n",
              "      <td>0.866044</td>\n",
              "    </tr>\n",
              "    <tr>\n",
              "      <th>11</th>\n",
              "      <td></td>\n",
              "      <td>2021-06-26 01:57:59</td>\n",
              "      <td>2.345 sec</td>\n",
              "      <td>51.0</td>\n",
              "      <td>0.915746</td>\n",
              "      <td>0.654929</td>\n",
              "      <td>0.838591</td>\n",
              "    </tr>\n",
              "  </tbody>\n",
              "</table>\n",
              "</div>"
            ],
            "text/plain": [
              "                timestamp  ... training_mae  training_deviance\n",
              "0     2021-06-26 01:57:59  ...    21.341832         532.434631\n",
              "1     2021-06-26 01:57:59  ...     4.655270          43.766660\n",
              "2     2021-06-26 01:57:59  ...     2.187642          13.792726\n",
              "3     2021-06-26 01:57:59  ...     1.628269           7.170656\n",
              "4     2021-06-26 01:57:59  ...     1.380848           4.618180\n",
              "5     2021-06-26 01:57:59  ...     1.174594           3.166601\n",
              "6     2021-06-26 01:57:59  ...     1.048642           2.376199\n",
              "7     2021-06-26 01:57:59  ...     0.924262           1.784806\n",
              "8     2021-06-26 01:57:59  ...     0.811169           1.338460\n",
              "9     2021-06-26 01:57:59  ...     0.735423           1.081790\n",
              "10    2021-06-26 01:57:59  ...     0.667311           0.866044\n",
              "11    2021-06-26 01:57:59  ...     0.654929           0.838591\n",
              "\n",
              "[12 rows x 7 columns]"
            ]
          },
          "metadata": {
            "tags": []
          }
        },
        {
          "output_type": "stream",
          "text": [
            "\n",
            "Variable Importances: \n"
          ],
          "name": "stdout"
        },
        {
          "output_type": "display_data",
          "data": {
            "text/html": [
              "<div>\n",
              "<style scoped>\n",
              "    .dataframe tbody tr th:only-of-type {\n",
              "        vertical-align: middle;\n",
              "    }\n",
              "\n",
              "    .dataframe tbody tr th {\n",
              "        vertical-align: top;\n",
              "    }\n",
              "\n",
              "    .dataframe thead th {\n",
              "        text-align: right;\n",
              "    }\n",
              "</style>\n",
              "<table border=\"1\" class=\"dataframe\">\n",
              "  <thead>\n",
              "    <tr style=\"text-align: right;\">\n",
              "      <th></th>\n",
              "      <th>variable</th>\n",
              "      <th>relative_importance</th>\n",
              "      <th>scaled_importance</th>\n",
              "      <th>percentage</th>\n",
              "    </tr>\n",
              "  </thead>\n",
              "  <tbody>\n",
              "    <tr>\n",
              "      <th>0</th>\n",
              "      <td>LSTAT</td>\n",
              "      <td>15953.510742</td>\n",
              "      <td>1.000000</td>\n",
              "      <td>0.465742</td>\n",
              "    </tr>\n",
              "    <tr>\n",
              "      <th>1</th>\n",
              "      <td>RM</td>\n",
              "      <td>8911.679688</td>\n",
              "      <td>0.558603</td>\n",
              "      <td>0.260165</td>\n",
              "    </tr>\n",
              "    <tr>\n",
              "      <th>2</th>\n",
              "      <td>DIS</td>\n",
              "      <td>1796.557373</td>\n",
              "      <td>0.112612</td>\n",
              "      <td>0.052448</td>\n",
              "    </tr>\n",
              "    <tr>\n",
              "      <th>3</th>\n",
              "      <td>CRIM</td>\n",
              "      <td>1773.405396</td>\n",
              "      <td>0.111161</td>\n",
              "      <td>0.051772</td>\n",
              "    </tr>\n",
              "    <tr>\n",
              "      <th>4</th>\n",
              "      <td>PTRATIO</td>\n",
              "      <td>1283.730103</td>\n",
              "      <td>0.080467</td>\n",
              "      <td>0.037477</td>\n",
              "    </tr>\n",
              "    <tr>\n",
              "      <th>5</th>\n",
              "      <td>NOX</td>\n",
              "      <td>1184.868164</td>\n",
              "      <td>0.074270</td>\n",
              "      <td>0.034591</td>\n",
              "    </tr>\n",
              "    <tr>\n",
              "      <th>6</th>\n",
              "      <td>B</td>\n",
              "      <td>1013.110840</td>\n",
              "      <td>0.063504</td>\n",
              "      <td>0.029576</td>\n",
              "    </tr>\n",
              "    <tr>\n",
              "      <th>7</th>\n",
              "      <td>INDUS</td>\n",
              "      <td>800.356750</td>\n",
              "      <td>0.050168</td>\n",
              "      <td>0.023365</td>\n",
              "    </tr>\n",
              "    <tr>\n",
              "      <th>8</th>\n",
              "      <td>AGE</td>\n",
              "      <td>691.031982</td>\n",
              "      <td>0.043315</td>\n",
              "      <td>0.020174</td>\n",
              "    </tr>\n",
              "    <tr>\n",
              "      <th>9</th>\n",
              "      <td>TAX</td>\n",
              "      <td>592.707947</td>\n",
              "      <td>0.037152</td>\n",
              "      <td>0.017303</td>\n",
              "    </tr>\n",
              "    <tr>\n",
              "      <th>10</th>\n",
              "      <td>RAD</td>\n",
              "      <td>170.184265</td>\n",
              "      <td>0.010668</td>\n",
              "      <td>0.004968</td>\n",
              "    </tr>\n",
              "    <tr>\n",
              "      <th>11</th>\n",
              "      <td>CHAS</td>\n",
              "      <td>60.058811</td>\n",
              "      <td>0.003765</td>\n",
              "      <td>0.001753</td>\n",
              "    </tr>\n",
              "    <tr>\n",
              "      <th>12</th>\n",
              "      <td>ZN</td>\n",
              "      <td>22.741547</td>\n",
              "      <td>0.001425</td>\n",
              "      <td>0.000664</td>\n",
              "    </tr>\n",
              "  </tbody>\n",
              "</table>\n",
              "</div>"
            ],
            "text/plain": [
              "   variable  relative_importance  scaled_importance  percentage\n",
              "0     LSTAT         15953.510742           1.000000    0.465742\n",
              "1        RM          8911.679688           0.558603    0.260165\n",
              "2       DIS          1796.557373           0.112612    0.052448\n",
              "3      CRIM          1773.405396           0.111161    0.051772\n",
              "4   PTRATIO          1283.730103           0.080467    0.037477\n",
              "5       NOX          1184.868164           0.074270    0.034591\n",
              "6         B          1013.110840           0.063504    0.029576\n",
              "7     INDUS           800.356750           0.050168    0.023365\n",
              "8       AGE           691.031982           0.043315    0.020174\n",
              "9       TAX           592.707947           0.037152    0.017303\n",
              "10      RAD           170.184265           0.010668    0.004968\n",
              "11     CHAS            60.058811           0.003765    0.001753\n",
              "12       ZN            22.741547           0.001425    0.000664"
            ]
          },
          "metadata": {
            "tags": []
          }
        },
        {
          "output_type": "execute_result",
          "data": {
            "text/plain": [
              ""
            ]
          },
          "metadata": {
            "tags": []
          },
          "execution_count": 9
        }
      ]
    },
    {
      "cell_type": "code",
      "metadata": {
        "colab": {
          "base_uri": "https://localhost:8080/",
          "height": 287
        },
        "id": "noymRt6myr6u",
        "outputId": "1ca58ee5-a0cd-4618-d975-bbab669dccd3"
      },
      "source": [
        "# 予測\n",
        "y_pred = aml.leader.predict(h2o_test)\n",
        "y_pred"
      ],
      "execution_count": 10,
      "outputs": [
        {
          "output_type": "stream",
          "text": [
            "xgboost prediction progress: |████████████████████████████████████████████| 100%\n"
          ],
          "name": "stdout"
        },
        {
          "output_type": "display_data",
          "data": {
            "text/html": [
              "<table>\n",
              "<thead>\n",
              "<tr><th style=\"text-align: right;\">  predict</th></tr>\n",
              "</thead>\n",
              "<tbody>\n",
              "<tr><td style=\"text-align: right;\">  29.041 </td></tr>\n",
              "<tr><td style=\"text-align: right;\">  28.0348</td></tr>\n",
              "<tr><td style=\"text-align: right;\">  25.7835</td></tr>\n",
              "<tr><td style=\"text-align: right;\">  28.0571</td></tr>\n",
              "<tr><td style=\"text-align: right;\">  19.73  </td></tr>\n",
              "<tr><td style=\"text-align: right;\">  14.18  </td></tr>\n",
              "<tr><td style=\"text-align: right;\">  47.8597</td></tr>\n",
              "<tr><td style=\"text-align: right;\">  17.3832</td></tr>\n",
              "<tr><td style=\"text-align: right;\">  21.3282</td></tr>\n",
              "<tr><td style=\"text-align: right;\">  46.4187</td></tr>\n",
              "</tbody>\n",
              "</table>"
            ]
          },
          "metadata": {
            "tags": []
          }
        },
        {
          "output_type": "execute_result",
          "data": {
            "text/plain": [
              ""
            ]
          },
          "metadata": {
            "tags": []
          },
          "execution_count": 10
        }
      ]
    },
    {
      "cell_type": "code",
      "metadata": {
        "colab": {
          "base_uri": "https://localhost:8080/"
        },
        "id": "QGhF3Oz6zfiR",
        "outputId": "98fc7efb-88c0-42a5-df34-a06aad2a0462"
      },
      "source": [
        "perf = aml.leader.model_performance(h2o_test)\n",
        "perf"
      ],
      "execution_count": 11,
      "outputs": [
        {
          "output_type": "stream",
          "text": [
            "\n",
            "ModelMetricsRegression: xgboost\n",
            "** Reported on test data. **\n",
            "\n",
            "MSE: 22.087954294343596\n",
            "RMSE: 4.69978236669993\n",
            "MAE: 3.0897762120938768\n",
            "RMSLE: 0.1595180418199213\n",
            "Mean Residual Deviance: 22.087954294343596\n"
          ],
          "name": "stdout"
        },
        {
          "output_type": "execute_result",
          "data": {
            "text/plain": [
              ""
            ]
          },
          "metadata": {
            "tags": []
          },
          "execution_count": 11
        }
      ]
    }
  ]
}