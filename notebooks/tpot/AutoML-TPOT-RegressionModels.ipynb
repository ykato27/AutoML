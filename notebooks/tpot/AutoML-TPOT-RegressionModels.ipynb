{
 "cells": [
  {
   "cell_type": "code",
   "execution_count": 1,
   "metadata": {},
   "outputs": [],
   "source": [
    "%load_ext lab_black"
   ]
  },
  {
   "cell_type": "code",
   "execution_count": 2,
   "metadata": {},
   "outputs": [],
   "source": [
    "# ライブラリーのインポート\n",
    "from tpot import TPOTRegressor\n",
    "from sklearn.datasets import fetch_california_housing\n",
    "from sklearn.model_selection import train_test_split\n",
    "import numpy as np\n",
    "import pandas as pd\n",
    "import matplotlib.pyplot as plt\n",
    "\n",
    "# ボストンの住宅価格データ\n",
    "from sklearn.datasets import load_boston\n",
    "\n",
    "# 評価指標\n",
    "from sklearn.metrics import r2_score\n",
    "from sklearn.metrics import mean_absolute_error\n",
    "from sklearn.metrics import mean_squared_error"
   ]
  },
  {
   "cell_type": "code",
   "execution_count": 3,
   "metadata": {},
   "outputs": [],
   "source": [
    "# データセットの読込み\n",
    "boston = load_boston()\n",
    "\n",
    "# 説明変数の格納\n",
    "X = pd.DataFrame(boston.data, columns=boston.feature_names)\n",
    "# 目的変数の追加\n",
    "y = pd.DataFrame(boston.target)"
   ]
  },
  {
   "cell_type": "code",
   "execution_count": 4,
   "metadata": {},
   "outputs": [],
   "source": [
    "# ランダムシード値\n",
    "RANDOM_STATE = 10\n",
    "\n",
    "# 学習データと評価データの割合\n",
    "TEST_SIZE = 0.2\n",
    "\n",
    "# 学習データと評価データの分割\n",
    "X_train, X_test, y_train, y_test = train_test_split(\n",
    "    X, y, test_size=TEST_SIZE, random_state=RANDOM_STATE\n",
    ")"
   ]
  },
  {
   "cell_type": "code",
   "execution_count": 5,
   "metadata": {},
   "outputs": [],
   "source": [
    "dire = \"proc_folder\"\n",
    "\n",
    "# TPOTRegressorの設定\n",
    "tpot = TPOTRegressor(\n",
    "    scoring=\"neg_mean_absolute_error\",\n",
    "    generations=5,\n",
    "    population_size=100,\n",
    "    random_state=42,\n",
    "    verbosity=2,\n",
    "    n_jobs=-1,\n",
    "    periodic_checkpoint_folder=dire,\n",
    ")"
   ]
  },
  {
   "cell_type": "code",
   "execution_count": 6,
   "metadata": {},
   "outputs": [
    {
     "name": "stderr",
     "output_type": "stream",
     "text": [
      "/tmp/Python/python-3.9.6/lib/python3.9/site-packages/sklearn/utils/validation.py:63: DataConversionWarning: A column-vector y was passed when a 1d array was expected. Please change the shape of y to (n_samples, ), for example using ravel().\n",
      "  return f(*args, **kwargs)\n"
     ]
    },
    {
     "data": {
      "application/vnd.jupyter.widget-view+json": {
       "model_id": "",
       "version_major": 2,
       "version_minor": 0
      },
      "text/plain": [
       "Optimization Progress:   0%|          | 0/600 [00:00<?, ?pipeline/s]"
      ]
     },
     "metadata": {},
     "output_type": "display_data"
    },
    {
     "name": "stdout",
     "output_type": "stream",
     "text": [
      "\n",
      "Generation 1 - Current best internal CV score: -2.1387057547604975\n",
      "\n",
      "Generation 2 - Current best internal CV score: -2.110103247701386\n",
      "\n",
      "Generation 3 - Current best internal CV score: -2.110103247701386\n",
      "\n",
      "Generation 4 - Current best internal CV score: -2.110103247701386\n",
      "\n",
      "Generation 5 - Current best internal CV score: -2.066290312736627\n",
      "\n",
      "Best pipeline: GradientBoostingRegressor(input_matrix, alpha=0.95, learning_rate=0.1, loss=huber, max_depth=7, max_features=0.55, min_samples_leaf=7, min_samples_split=4, n_estimators=100, subsample=0.9000000000000001)\n",
      "CPU times: user 3min 23s, sys: 11.6 s, total: 3min 35s\n",
      "Wall time: 19min 25s\n"
     ]
    },
    {
     "data": {
      "text/plain": [
       "TPOTRegressor(generations=5, n_jobs=-1,\n",
       "              periodic_checkpoint_folder='proc_folder', random_state=42,\n",
       "              scoring='neg_mean_absolute_error', verbosity=2)"
      ]
     },
     "execution_count": 6,
     "metadata": {},
     "output_type": "execute_result"
    }
   ],
   "source": [
    "%%time\n",
    "tpot.fit(X_train, y_train)"
   ]
  },
  {
   "cell_type": "code",
   "execution_count": 7,
   "metadata": {},
   "outputs": [
    {
     "data": {
      "text/plain": [
       "Pipeline(steps=[('gradientboostingregressor',\n",
       "                 GradientBoostingRegressor(alpha=0.95, loss='huber',\n",
       "                                           max_depth=7, max_features=0.55,\n",
       "                                           min_samples_leaf=7,\n",
       "                                           min_samples_split=4, random_state=42,\n",
       "                                           subsample=0.9000000000000001))])"
      ]
     },
     "execution_count": 7,
     "metadata": {},
     "output_type": "execute_result"
    }
   ],
   "source": [
    "tpot.fitted_pipeline_"
   ]
  },
  {
   "cell_type": "code",
   "execution_count": 8,
   "metadata": {},
   "outputs": [],
   "source": [
    "y_pred = tpot.predict(X_test)"
   ]
  },
  {
   "cell_type": "code",
   "execution_count": 9,
   "metadata": {},
   "outputs": [
    {
     "data": {
      "text/plain": [
       "Text(0, 0.5, 'y_test')"
      ]
     },
     "execution_count": 9,
     "metadata": {},
     "output_type": "execute_result"
    },
    {
     "data": {
      "image/png": "[encoded data removed]",
      "text/plain": [
       "<Figure size 360x360 with 1 Axes>"
      ]
     },
     "metadata": {
      "needs_background": "light"
     },
     "output_type": "display_data"
    }
   ],
   "source": [
    "plt.figure(figsize=(5, 5))\n",
    "plt.scatter(y_pred, y_test, alpha=0.5)\n",
    "plt.xlabel(\"y_pred\")\n",
    "plt.ylabel(\"y_test\")"
   ]
  },
  {
   "cell_type": "code",
   "execution_count": 10,
   "metadata": {},
   "outputs": [
    {
     "name": "stdout",
     "output_type": "stream",
     "text": [
      "              R2       MAE        MSE      RMSE\n",
      "scores  0.838489  2.669996  16.890912  4.109855\n"
     ]
    }
   ],
   "source": [
    "# 評価\n",
    "def calculate_scores(true, pred):\n",
    "    \"\"\"全ての評価指標を計算する\n",
    "\n",
    "    Parameters\n",
    "    ----------\n",
    "    true (np.array)       : 実測値\n",
    "    pred (np.array)       : 予測値\n",
    "\n",
    "    Returns\n",
    "    -------\n",
    "    scores (pd.DataFrame) : 各評価指標を纏めた結果\n",
    "\n",
    "    \"\"\"\n",
    "    scores = {}\n",
    "    scores = pd.DataFrame(\n",
    "        {\n",
    "            \"R2\": r2_score(true, pred),\n",
    "            \"MAE\": mean_absolute_error(true, pred),\n",
    "            \"MSE\": mean_squared_error(true, pred),\n",
    "            \"RMSE\": np.sqrt(mean_squared_error(true, pred)),\n",
    "        },\n",
    "        index=[\"scores\"],\n",
    "    )\n",
    "    return scores\n",
    "\n",
    "\n",
    "scores = calculate_scores(y_test, y_pred)\n",
    "print(scores)"
   ]
  },
  {
   "cell_type": "code",
   "execution_count": null,
   "metadata": {},
   "outputs": [],
   "source": []
  }
 ],
 "metadata": {
  "kernelspec": {
   "display_name": "Python 3 (ipykernel)",
   "language": "python",
   "name": "python3"
  },
  "language_info": {
   "codemirror_mode": {
    "name": "ipython",
    "version": 3
   },
   "file_extension": ".py",
   "mimetype": "text/x-python",
   "name": "python",
   "nbconvert_exporter": "python",
   "pygments_lexer": "ipython3",
   "version": "3.9.6"
  }
 },
 "nbformat": 4,
 "nbformat_minor": 4
}
