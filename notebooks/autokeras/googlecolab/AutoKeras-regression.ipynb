{
 "cells": [
  {
   "cell_type": "markdown",
   "metadata": {
    "colab_type": "text",
    "id": "view-in-github"
   },
   "source": [
    "<a href=\"https://colab.research.google.com/github/ykato27/AutoKeras/blob/main/AutoKeras_Regression.ipynb\" target=\"_parent\"><img src=\"https://colab.research.google.com/assets/colab-badge.svg\" alt=\"Open In Colab\"/></a>"
   ]
  },
  {
   "cell_type": "code",
   "execution_count": null,
   "metadata": {
    "colab": {
     "base_uri": "https://localhost:8080/"
    },
    "id": "Brp1k1-UO7F1",
    "outputId": "65bc208e-89ac-49ea-bf23-c7779f97309d"
   },
   "outputs": [
    {
     "name": "stdout",
     "output_type": "stream",
     "text": [
      "Requirement already satisfied: autokeras in /usr/local/lib/python3.7/dist-packages (1.0.15)\n",
      "Requirement already satisfied: scikit-learn in /usr/local/lib/python3.7/dist-packages (from autokeras) (0.22.2.post1)\n",
      "Requirement already satisfied: keras-tuner>=1.0.2 in /usr/local/lib/python3.7/dist-packages (from autokeras) (1.0.3)\n",
      "Requirement already satisfied: pandas in /usr/local/lib/python3.7/dist-packages (from autokeras) (1.1.5)\n",
      "Requirement already satisfied: tensorflow>=2.3.0 in /usr/local/lib/python3.7/dist-packages (from autokeras) (2.5.0)\n",
      "Requirement already satisfied: packaging in /usr/local/lib/python3.7/dist-packages (from autokeras) (20.9)\n",
      "Requirement already satisfied: scipy>=0.17.0 in /usr/local/lib/python3.7/dist-packages (from scikit-learn->autokeras) (1.4.1)\n",
      "Requirement already satisfied: joblib>=0.11 in /usr/local/lib/python3.7/dist-packages (from scikit-learn->autokeras) (1.0.1)\n",
      "Requirement already satisfied: numpy>=1.11.0 in /usr/local/lib/python3.7/dist-packages (from scikit-learn->autokeras) (1.19.5)\n",
      "Requirement already satisfied: requests in /usr/local/lib/python3.7/dist-packages (from keras-tuner>=1.0.2->autokeras) (2.23.0)\n",
      "Requirement already satisfied: tensorboard in /usr/local/lib/python3.7/dist-packages (from keras-tuner>=1.0.2->autokeras) (2.5.0)\n",
      "Requirement already satisfied: kt-legacy in /usr/local/lib/python3.7/dist-packages (from keras-tuner>=1.0.2->autokeras) (1.0.3)\n",
      "Requirement already satisfied: ipython in /usr/local/lib/python3.7/dist-packages (from keras-tuner>=1.0.2->autokeras) (5.5.0)\n",
      "Requirement already satisfied: pytz>=2017.2 in /usr/local/lib/python3.7/dist-packages (from pandas->autokeras) (2018.9)\n",
      "Requirement already satisfied: python-dateutil>=2.7.3 in /usr/local/lib/python3.7/dist-packages (from pandas->autokeras) (2.8.1)\n",
      "Requirement already satisfied: keras-nightly~=2.5.0.dev in /usr/local/lib/python3.7/dist-packages (from tensorflow>=2.3.0->autokeras) (2.5.0.dev2021032900)\n",
      "Requirement already satisfied: typing-extensions~=3.7.4 in /usr/local/lib/python3.7/dist-packages (from tensorflow>=2.3.0->autokeras) (3.7.4.3)\n",
      "Requirement already satisfied: wheel~=0.35 in /usr/local/lib/python3.7/dist-packages (from tensorflow>=2.3.0->autokeras) (0.36.2)\n",
      "Requirement already satisfied: grpcio~=1.34.0 in /usr/local/lib/python3.7/dist-packages (from tensorflow>=2.3.0->autokeras) (1.34.1)\n",
      "Requirement already satisfied: keras-preprocessing~=1.1.2 in /usr/local/lib/python3.7/dist-packages (from tensorflow>=2.3.0->autokeras) (1.1.2)\n",
      "Requirement already satisfied: google-pasta~=0.2 in /usr/local/lib/python3.7/dist-packages (from tensorflow>=2.3.0->autokeras) (0.2.0)\n",
      "Requirement already satisfied: absl-py~=0.10 in /usr/local/lib/python3.7/dist-packages (from tensorflow>=2.3.0->autokeras) (0.12.0)\n",
      "Requirement already satisfied: termcolor~=1.1.0 in /usr/local/lib/python3.7/dist-packages (from tensorflow>=2.3.0->autokeras) (1.1.0)\n",
      "Requirement already satisfied: protobuf>=3.9.2 in /usr/local/lib/python3.7/dist-packages (from tensorflow>=2.3.0->autokeras) (3.12.4)\n",
      "Requirement already satisfied: astunparse~=1.6.3 in /usr/local/lib/python3.7/dist-packages (from tensorflow>=2.3.0->autokeras) (1.6.3)\n",
      "Requirement already satisfied: tensorflow-estimator<2.6.0,>=2.5.0rc0 in /usr/local/lib/python3.7/dist-packages (from tensorflow>=2.3.0->autokeras) (2.5.0)\n",
      "Requirement already satisfied: wrapt~=1.12.1 in /usr/local/lib/python3.7/dist-packages (from tensorflow>=2.3.0->autokeras) (1.12.1)\n",
      "Requirement already satisfied: opt-einsum~=3.3.0 in /usr/local/lib/python3.7/dist-packages (from tensorflow>=2.3.0->autokeras) (3.3.0)\n",
      "Requirement already satisfied: flatbuffers~=1.12.0 in /usr/local/lib/python3.7/dist-packages (from tensorflow>=2.3.0->autokeras) (1.12)\n",
      "Requirement already satisfied: gast==0.4.0 in /usr/local/lib/python3.7/dist-packages (from tensorflow>=2.3.0->autokeras) (0.4.0)\n",
      "Requirement already satisfied: h5py~=3.1.0 in /usr/local/lib/python3.7/dist-packages (from tensorflow>=2.3.0->autokeras) (3.1.0)\n",
      "Requirement already satisfied: six~=1.15.0 in /usr/local/lib/python3.7/dist-packages (from tensorflow>=2.3.0->autokeras) (1.15.0)\n",
      "Requirement already satisfied: pyparsing>=2.0.2 in /usr/local/lib/python3.7/dist-packages (from packaging->autokeras) (2.4.7)\n",
      "Requirement already satisfied: chardet<4,>=3.0.2 in /usr/local/lib/python3.7/dist-packages (from requests->keras-tuner>=1.0.2->autokeras) (3.0.4)\n",
      "Requirement already satisfied: certifi>=2017.4.17 in /usr/local/lib/python3.7/dist-packages (from requests->keras-tuner>=1.0.2->autokeras) (2021.5.30)\n",
      "Requirement already satisfied: urllib3!=1.25.0,!=1.25.1,<1.26,>=1.21.1 in /usr/local/lib/python3.7/dist-packages (from requests->keras-tuner>=1.0.2->autokeras) (1.24.3)\n",
      "Requirement already satisfied: idna<3,>=2.5 in /usr/local/lib/python3.7/dist-packages (from requests->keras-tuner>=1.0.2->autokeras) (2.10)\n",
      "Requirement already satisfied: setuptools>=41.0.0 in /usr/local/lib/python3.7/dist-packages (from tensorboard->keras-tuner>=1.0.2->autokeras) (57.0.0)\n",
      "Requirement already satisfied: google-auth<2,>=1.6.3 in /usr/local/lib/python3.7/dist-packages (from tensorboard->keras-tuner>=1.0.2->autokeras) (1.31.0)\n",
      "Requirement already satisfied: tensorboard-plugin-wit>=1.6.0 in /usr/local/lib/python3.7/dist-packages (from tensorboard->keras-tuner>=1.0.2->autokeras) (1.8.0)\n",
      "Requirement already satisfied: werkzeug>=0.11.15 in /usr/local/lib/python3.7/dist-packages (from tensorboard->keras-tuner>=1.0.2->autokeras) (1.0.1)\n",
      "Requirement already satisfied: tensorboard-data-server<0.7.0,>=0.6.0 in /usr/local/lib/python3.7/dist-packages (from tensorboard->keras-tuner>=1.0.2->autokeras) (0.6.1)\n",
      "Requirement already satisfied: google-auth-oauthlib<0.5,>=0.4.1 in /usr/local/lib/python3.7/dist-packages (from tensorboard->keras-tuner>=1.0.2->autokeras) (0.4.4)\n",
      "Requirement already satisfied: markdown>=2.6.8 in /usr/local/lib/python3.7/dist-packages (from tensorboard->keras-tuner>=1.0.2->autokeras) (3.3.4)\n",
      "Requirement already satisfied: decorator in /usr/local/lib/python3.7/dist-packages (from ipython->keras-tuner>=1.0.2->autokeras) (4.4.2)\n",
      "Requirement already satisfied: traitlets>=4.2 in /usr/local/lib/python3.7/dist-packages (from ipython->keras-tuner>=1.0.2->autokeras) (5.0.5)\n",
      "Requirement already satisfied: simplegeneric>0.8 in /usr/local/lib/python3.7/dist-packages (from ipython->keras-tuner>=1.0.2->autokeras) (0.8.1)\n",
      "Requirement already satisfied: pygments in /usr/local/lib/python3.7/dist-packages (from ipython->keras-tuner>=1.0.2->autokeras) (2.6.1)\n",
      "Requirement already satisfied: pickleshare in /usr/local/lib/python3.7/dist-packages (from ipython->keras-tuner>=1.0.2->autokeras) (0.7.5)\n",
      "Requirement already satisfied: pexpect; sys_platform != \"win32\" in /usr/local/lib/python3.7/dist-packages (from ipython->keras-tuner>=1.0.2->autokeras) (4.8.0)\n",
      "Requirement already satisfied: prompt-toolkit<2.0.0,>=1.0.4 in /usr/local/lib/python3.7/dist-packages (from ipython->keras-tuner>=1.0.2->autokeras) (1.0.18)\n",
      "Requirement already satisfied: cached-property; python_version < \"3.8\" in /usr/local/lib/python3.7/dist-packages (from h5py~=3.1.0->tensorflow>=2.3.0->autokeras) (1.5.2)\n",
      "Requirement already satisfied: rsa<5,>=3.1.4; python_version >= \"3.6\" in /usr/local/lib/python3.7/dist-packages (from google-auth<2,>=1.6.3->tensorboard->keras-tuner>=1.0.2->autokeras) (4.7.2)\n",
      "Requirement already satisfied: cachetools<5.0,>=2.0.0 in /usr/local/lib/python3.7/dist-packages (from google-auth<2,>=1.6.3->tensorboard->keras-tuner>=1.0.2->autokeras) (4.2.2)\n",
      "Requirement already satisfied: pyasn1-modules>=0.2.1 in /usr/local/lib/python3.7/dist-packages (from google-auth<2,>=1.6.3->tensorboard->keras-tuner>=1.0.2->autokeras) (0.2.8)\n",
      "Requirement already satisfied: requests-oauthlib>=0.7.0 in /usr/local/lib/python3.7/dist-packages (from google-auth-oauthlib<0.5,>=0.4.1->tensorboard->keras-tuner>=1.0.2->autokeras) (1.3.0)\n",
      "Requirement already satisfied: importlib-metadata; python_version < \"3.8\" in /usr/local/lib/python3.7/dist-packages (from markdown>=2.6.8->tensorboard->keras-tuner>=1.0.2->autokeras) (4.5.0)\n",
      "Requirement already satisfied: ipython-genutils in /usr/local/lib/python3.7/dist-packages (from traitlets>=4.2->ipython->keras-tuner>=1.0.2->autokeras) (0.2.0)\n",
      "Requirement already satisfied: ptyprocess>=0.5 in /usr/local/lib/python3.7/dist-packages (from pexpect; sys_platform != \"win32\"->ipython->keras-tuner>=1.0.2->autokeras) (0.7.0)\n",
      "Requirement already satisfied: wcwidth in /usr/local/lib/python3.7/dist-packages (from prompt-toolkit<2.0.0,>=1.0.4->ipython->keras-tuner>=1.0.2->autokeras) (0.2.5)\n",
      "Requirement already satisfied: pyasn1>=0.1.3 in /usr/local/lib/python3.7/dist-packages (from rsa<5,>=3.1.4; python_version >= \"3.6\"->google-auth<2,>=1.6.3->tensorboard->keras-tuner>=1.0.2->autokeras) (0.4.8)\n",
      "Requirement already satisfied: oauthlib>=3.0.0 in /usr/local/lib/python3.7/dist-packages (from requests-oauthlib>=0.7.0->google-auth-oauthlib<0.5,>=0.4.1->tensorboard->keras-tuner>=1.0.2->autokeras) (3.1.1)\n",
      "Requirement already satisfied: zipp>=0.5 in /usr/local/lib/python3.7/dist-packages (from importlib-metadata; python_version < \"3.8\"->markdown>=2.6.8->tensorboard->keras-tuner>=1.0.2->autokeras) (3.4.1)\n"
     ]
    }
   ],
   "source": [
    "!pip install autokeras"
   ]
  },
  {
   "cell_type": "code",
   "execution_count": null,
   "metadata": {
    "id": "7yovrMX-PA8Z"
   },
   "outputs": [],
   "source": [
    "import pandas as pd\n",
    "import matplotlib.pyplot as plt\n",
    "import numpy as np\n",
    "import seaborn as sns\n",
    "import matplotlib.pyplot as plt\n",
    "\n",
    "%matplotlib inline\n",
    "\n",
    "# ボストンの住宅価格データ\n",
    "from sklearn.datasets import load_boston\n",
    "\n",
    "# 前処理\n",
    "from sklearn.preprocessing import StandardScaler\n",
    "from sklearn.model_selection import train_test_split\n",
    "\n",
    "# 評価指標\n",
    "from sklearn.metrics import r2_score\n",
    "from sklearn.metrics import mean_absolute_error\n",
    "from sklearn.metrics import mean_squared_error\n",
    "\n",
    "import tensorflow as tf\n",
    "import autokeras as ak"
   ]
  },
  {
   "cell_type": "code",
   "execution_count": null,
   "metadata": {
    "colab": {
     "base_uri": "https://localhost:8080/",
     "height": 204
    },
    "id": "cdga9UJrPCk4",
    "outputId": "eaee8678-f366-4d8c-a37c-82dd95bb9055"
   },
   "outputs": [
    {
     "data": {
      "text/html": [
       "<div>\n",
       "<style scoped>\n",
       "    .dataframe tbody tr th:only-of-type {\n",
       "        vertical-align: middle;\n",
       "    }\n",
       "\n",
       "    .dataframe tbody tr th {\n",
       "        vertical-align: top;\n",
       "    }\n",
       "\n",
       "    .dataframe thead th {\n",
       "        text-align: right;\n",
       "    }\n",
       "</style>\n",
       "<table border=\"1\" class=\"dataframe\">\n",
       "  <thead>\n",
       "    <tr style=\"text-align: right;\">\n",
       "      <th></th>\n",
       "      <th>CRIM</th>\n",
       "      <th>ZN</th>\n",
       "      <th>INDUS</th>\n",
       "      <th>CHAS</th>\n",
       "      <th>NOX</th>\n",
       "      <th>RM</th>\n",
       "      <th>AGE</th>\n",
       "      <th>DIS</th>\n",
       "      <th>RAD</th>\n",
       "      <th>TAX</th>\n",
       "      <th>PTRATIO</th>\n",
       "      <th>B</th>\n",
       "      <th>LSTAT</th>\n",
       "      <th>MEDV</th>\n",
       "    </tr>\n",
       "  </thead>\n",
       "  <tbody>\n",
       "    <tr>\n",
       "      <th>0</th>\n",
       "      <td>0.00632</td>\n",
       "      <td>18.0</td>\n",
       "      <td>2.31</td>\n",
       "      <td>0.0</td>\n",
       "      <td>0.538</td>\n",
       "      <td>6.575</td>\n",
       "      <td>65.2</td>\n",
       "      <td>4.0900</td>\n",
       "      <td>1.0</td>\n",
       "      <td>296.0</td>\n",
       "      <td>15.3</td>\n",
       "      <td>396.90</td>\n",
       "      <td>4.98</td>\n",
       "      <td>24.0</td>\n",
       "    </tr>\n",
       "    <tr>\n",
       "      <th>1</th>\n",
       "      <td>0.02731</td>\n",
       "      <td>0.0</td>\n",
       "      <td>7.07</td>\n",
       "      <td>0.0</td>\n",
       "      <td>0.469</td>\n",
       "      <td>6.421</td>\n",
       "      <td>78.9</td>\n",
       "      <td>4.9671</td>\n",
       "      <td>2.0</td>\n",
       "      <td>242.0</td>\n",
       "      <td>17.8</td>\n",
       "      <td>396.90</td>\n",
       "      <td>9.14</td>\n",
       "      <td>21.6</td>\n",
       "    </tr>\n",
       "    <tr>\n",
       "      <th>2</th>\n",
       "      <td>0.02729</td>\n",
       "      <td>0.0</td>\n",
       "      <td>7.07</td>\n",
       "      <td>0.0</td>\n",
       "      <td>0.469</td>\n",
       "      <td>7.185</td>\n",
       "      <td>61.1</td>\n",
       "      <td>4.9671</td>\n",
       "      <td>2.0</td>\n",
       "      <td>242.0</td>\n",
       "      <td>17.8</td>\n",
       "      <td>392.83</td>\n",
       "      <td>4.03</td>\n",
       "      <td>34.7</td>\n",
       "    </tr>\n",
       "    <tr>\n",
       "      <th>3</th>\n",
       "      <td>0.03237</td>\n",
       "      <td>0.0</td>\n",
       "      <td>2.18</td>\n",
       "      <td>0.0</td>\n",
       "      <td>0.458</td>\n",
       "      <td>6.998</td>\n",
       "      <td>45.8</td>\n",
       "      <td>6.0622</td>\n",
       "      <td>3.0</td>\n",
       "      <td>222.0</td>\n",
       "      <td>18.7</td>\n",
       "      <td>394.63</td>\n",
       "      <td>2.94</td>\n",
       "      <td>33.4</td>\n",
       "    </tr>\n",
       "    <tr>\n",
       "      <th>4</th>\n",
       "      <td>0.06905</td>\n",
       "      <td>0.0</td>\n",
       "      <td>2.18</td>\n",
       "      <td>0.0</td>\n",
       "      <td>0.458</td>\n",
       "      <td>7.147</td>\n",
       "      <td>54.2</td>\n",
       "      <td>6.0622</td>\n",
       "      <td>3.0</td>\n",
       "      <td>222.0</td>\n",
       "      <td>18.7</td>\n",
       "      <td>396.90</td>\n",
       "      <td>5.33</td>\n",
       "      <td>36.2</td>\n",
       "    </tr>\n",
       "  </tbody>\n",
       "</table>\n",
       "</div>"
      ],
      "text/plain": [
       "      CRIM    ZN  INDUS  CHAS    NOX  ...    TAX  PTRATIO       B  LSTAT  MEDV\n",
       "0  0.00632  18.0   2.31   0.0  0.538  ...  296.0     15.3  396.90   4.98  24.0\n",
       "1  0.02731   0.0   7.07   0.0  0.469  ...  242.0     17.8  396.90   9.14  21.6\n",
       "2  0.02729   0.0   7.07   0.0  0.469  ...  242.0     17.8  392.83   4.03  34.7\n",
       "3  0.03237   0.0   2.18   0.0  0.458  ...  222.0     18.7  394.63   2.94  33.4\n",
       "4  0.06905   0.0   2.18   0.0  0.458  ...  222.0     18.7  396.90   5.33  36.2\n",
       "\n",
       "[5 rows x 14 columns]"
      ]
     },
     "execution_count": 3,
     "metadata": {
      "tags": []
     },
     "output_type": "execute_result"
    }
   ],
   "source": [
    "# データセットの読込み\n",
    "boston = load_boston()\n",
    "\n",
    "# 説明変数の格納\n",
    "df = pd.DataFrame(boston.data, columns=boston.feature_names)\n",
    "# 目的変数の追加\n",
    "df[\"MEDV\"] = boston.target\n",
    "\n",
    "# データの中身を確認\n",
    "df.head()"
   ]
  },
  {
   "cell_type": "code",
   "execution_count": null,
   "metadata": {
    "id": "4oKT5Ax3PSdz"
   },
   "outputs": [],
   "source": [
    "# ランダムシード値\n",
    "RANDOM_STATE = 10\n",
    "\n",
    "# 学習データと評価データの割合\n",
    "TEST_SIZE = 0.2\n",
    "\n",
    "# 学習データと評価データを作成\n",
    "x_train, x_test, y_train, y_test = train_test_split(\n",
    "    df.iloc[:, 0 : df.shape[1] - 1],\n",
    "    df.iloc[:, df.shape[1] - 1],\n",
    "    test_size=TEST_SIZE,\n",
    "    random_state=RANDOM_STATE,\n",
    ")\n",
    "\n",
    "df_train = pd.concat([x_train, y_train], axis=1)\n",
    "df_test = pd.concat([x_test, y_test], axis=1)\n",
    "\n",
    "feature_names = boston.feature_names\n",
    "label_name = [\"MEDV\"]"
   ]
  },
  {
   "cell_type": "code",
   "execution_count": null,
   "metadata": {
    "id": "Xu8HELJWPWWp"
   },
   "outputs": [],
   "source": [
    "reg = ak.StructuredDataRegressor(\n",
    "    overwrite=True,\n",
    "    max_trials=10,  # It tries 10 different models.\n",
    "    )"
   ]
  },
  {
   "cell_type": "code",
   "execution_count": null,
   "metadata": {
    "colab": {
     "base_uri": "https://localhost:8080/"
    },
    "id": "d-Fa4a-IPbZL",
    "outputId": "a97063a6-8763-4fbc-85f5-89364c65a436"
   },
   "outputs": [
    {
     "name": "stdout",
     "output_type": "stream",
     "text": [
      "Trial 10 Complete [00h 00m 10s]\n",
      "val_loss: 26.017635345458984\n",
      "\n",
      "Best val_loss So Far: 14.743266105651855\n",
      "Total elapsed time: 00h 05m 31s\n",
      "INFO:tensorflow:Oracle triggered exit\n",
      "Epoch 1/37\n",
      "13/13 [==============================] - 0s 2ms/step - loss: 185.5670 - mean_squared_error: 185.5670\n",
      "Epoch 2/37\n",
      "13/13 [==============================] - 0s 2ms/step - loss: 44.2478 - mean_squared_error: 44.2478\n",
      "Epoch 3/37\n",
      "13/13 [==============================] - 0s 2ms/step - loss: 25.5493 - mean_squared_error: 25.5493\n",
      "Epoch 4/37\n",
      "13/13 [==============================] - 0s 2ms/step - loss: 17.5457 - mean_squared_error: 17.5457\n",
      "Epoch 5/37\n",
      "13/13 [==============================] - 0s 2ms/step - loss: 13.9778 - mean_squared_error: 13.9778\n",
      "Epoch 6/37\n",
      "13/13 [==============================] - 0s 2ms/step - loss: 12.3760 - mean_squared_error: 12.3760\n",
      "Epoch 7/37\n",
      "13/13 [==============================] - 0s 2ms/step - loss: 11.9614 - mean_squared_error: 11.9614\n",
      "Epoch 8/37\n",
      "13/13 [==============================] - 0s 2ms/step - loss: 11.7091 - mean_squared_error: 11.7091\n",
      "Epoch 9/37\n",
      "13/13 [==============================] - 0s 2ms/step - loss: 11.3890 - mean_squared_error: 11.3890\n",
      "Epoch 10/37\n",
      "13/13 [==============================] - 0s 2ms/step - loss: 10.9229 - mean_squared_error: 10.9229\n",
      "Epoch 11/37\n",
      "13/13 [==============================] - 0s 2ms/step - loss: 10.3870 - mean_squared_error: 10.3870\n",
      "Epoch 12/37\n",
      "13/13 [==============================] - 0s 2ms/step - loss: 9.8128 - mean_squared_error: 9.8128\n",
      "Epoch 13/37\n",
      "13/13 [==============================] - 0s 3ms/step - loss: 9.2851 - mean_squared_error: 9.2851\n",
      "Epoch 14/37\n",
      "13/13 [==============================] - 0s 2ms/step - loss: 8.7835 - mean_squared_error: 8.7835\n",
      "Epoch 15/37\n",
      "13/13 [==============================] - 0s 2ms/step - loss: 8.2966 - mean_squared_error: 8.2966\n",
      "Epoch 16/37\n",
      "13/13 [==============================] - 0s 2ms/step - loss: 7.6883 - mean_squared_error: 7.6883\n",
      "Epoch 17/37\n",
      "13/13 [==============================] - 0s 2ms/step - loss: 7.2060 - mean_squared_error: 7.2060\n",
      "Epoch 18/37\n",
      "13/13 [==============================] - 0s 2ms/step - loss: 6.5872 - mean_squared_error: 6.5872\n",
      "Epoch 19/37\n",
      "13/13 [==============================] - 0s 2ms/step - loss: 6.0783 - mean_squared_error: 6.0783\n",
      "Epoch 20/37\n",
      "13/13 [==============================] - 0s 2ms/step - loss: 5.7242 - mean_squared_error: 5.7242\n",
      "Epoch 21/37\n",
      "13/13 [==============================] - 0s 3ms/step - loss: 5.3180 - mean_squared_error: 5.3180\n",
      "Epoch 22/37\n",
      "13/13 [==============================] - 0s 3ms/step - loss: 5.0801 - mean_squared_error: 5.0801\n",
      "Epoch 23/37\n",
      "13/13 [==============================] - 0s 2ms/step - loss: 4.8306 - mean_squared_error: 4.8306\n",
      "Epoch 24/37\n",
      "13/13 [==============================] - 0s 2ms/step - loss: 4.5887 - mean_squared_error: 4.5887\n",
      "Epoch 25/37\n",
      "13/13 [==============================] - 0s 2ms/step - loss: 4.4323 - mean_squared_error: 4.4323\n",
      "Epoch 26/37\n",
      "13/13 [==============================] - 0s 3ms/step - loss: 4.2300 - mean_squared_error: 4.2300\n",
      "Epoch 27/37\n",
      "13/13 [==============================] - 0s 2ms/step - loss: 4.2776 - mean_squared_error: 4.2776\n",
      "Epoch 28/37\n",
      "13/13 [==============================] - 0s 2ms/step - loss: 3.9964 - mean_squared_error: 3.9964\n",
      "Epoch 29/37\n",
      "13/13 [==============================] - 0s 3ms/step - loss: 3.8933 - mean_squared_error: 3.8933\n",
      "Epoch 30/37\n",
      "13/13 [==============================] - 0s 3ms/step - loss: 3.5959 - mean_squared_error: 3.5959\n",
      "Epoch 31/37\n",
      "13/13 [==============================] - 0s 2ms/step - loss: 3.5589 - mean_squared_error: 3.5589\n",
      "Epoch 32/37\n",
      "13/13 [==============================] - 0s 2ms/step - loss: 3.4905 - mean_squared_error: 3.4905\n",
      "Epoch 33/37\n",
      "13/13 [==============================] - 0s 2ms/step - loss: 3.4788 - mean_squared_error: 3.4788\n",
      "Epoch 34/37\n",
      "13/13 [==============================] - 0s 2ms/step - loss: 3.8634 - mean_squared_error: 3.8634\n",
      "Epoch 35/37\n",
      "13/13 [==============================] - 0s 2ms/step - loss: 4.3111 - mean_squared_error: 4.3111\n",
      "Epoch 36/37\n",
      "13/13 [==============================] - 0s 2ms/step - loss: 5.0504 - mean_squared_error: 5.0504\n",
      "Epoch 37/37\n",
      "13/13 [==============================] - 0s 2ms/step - loss: 5.8454 - mean_squared_error: 5.8454\n",
      "INFO:tensorflow:Assets written to: ./structured_data_regressor/best_model/assets\n"
     ]
    }
   ],
   "source": [
    "reg.fit(\n",
    "    x=df_train[feature_names],\n",
    "    y=df_train[label_name],\n",
    "    validation_split=0.2,\n",
    "    )"
   ]
  },
  {
   "cell_type": "code",
   "execution_count": null,
   "metadata": {
    "colab": {
     "base_uri": "https://localhost:8080/"
    },
    "id": "jrD_sUmVUQ26",
    "outputId": "789a40aa-b55f-4cff-9f6a-06813b7857e8"
   },
   "outputs": [
    {
     "name": "stdout",
     "output_type": "stream",
     "text": [
      "Model: \"model\"\n",
      "_________________________________________________________________\n",
      "Layer (type)                 Output Shape              Param #   \n",
      "=================================================================\n",
      "input_1 (InputLayer)         [(None, 13)]              0         \n",
      "_________________________________________________________________\n",
      "multi_category_encoding (Mul (None, 13)                0         \n",
      "_________________________________________________________________\n",
      "normalization (Normalization (None, 13)                27        \n",
      "_________________________________________________________________\n",
      "dense (Dense)                (None, 1024)              14336     \n",
      "_________________________________________________________________\n",
      "re_lu (ReLU)                 (None, 1024)              0         \n",
      "_________________________________________________________________\n",
      "dense_1 (Dense)              (None, 32)                32800     \n",
      "_________________________________________________________________\n",
      "re_lu_1 (ReLU)               (None, 32)                0         \n",
      "_________________________________________________________________\n",
      "regression_head_1 (Dense)    (None, 1)                 33        \n",
      "=================================================================\n",
      "Total params: 47,196\n",
      "Trainable params: 47,169\n",
      "Non-trainable params: 27\n",
      "_________________________________________________________________\n"
     ]
    }
   ],
   "source": [
    "model = reg.export_model()\n",
    "model.summary()"
   ]
  },
  {
   "cell_type": "code",
   "execution_count": null,
   "metadata": {
    "colab": {
     "base_uri": "https://localhost:8080/"
    },
    "id": "UqAcPu8KP7VH",
    "outputId": "e502cd81-8c04-4416-8be1-7b479d398a45"
   },
   "outputs": [
    {
     "name": "stdout",
     "output_type": "stream",
     "text": [
      "4/4 [==============================] - 0s 3ms/step\n"
     ]
    }
   ],
   "source": [
    "y_pred = reg.predict(x=df_test[feature_names])"
   ]
  },
  {
   "cell_type": "code",
   "execution_count": null,
   "metadata": {
    "id": "U2vQlnVsUJ6l"
   },
   "outputs": [],
   "source": [
    "# 評価\n",
    "def calculate_scores(true, pred):\n",
    "    \"\"\"全ての評価指標を計算する\n",
    "\n",
    "    Parameters\n",
    "    ----------\n",
    "    true (np.array)       : 実測値\n",
    "    pred (np.array)       : 予測値\n",
    "\n",
    "    Returns\n",
    "    -------\n",
    "    scores (pd.DataFrame) : 各評価指標を纏めた結果\n",
    "\n",
    "    \"\"\"\n",
    "    scores = {}\n",
    "    scores = pd.DataFrame(\n",
    "        {\n",
    "            \"R2\": r2_score(true, pred),\n",
    "            \"MAE\": mean_absolute_error(true, pred),\n",
    "            \"MSE\": mean_squared_error(true, pred),\n",
    "            \"RMSE\": np.sqrt(mean_squared_error(true, pred)),\n",
    "        },\n",
    "        index=[\"scores\"],\n",
    "    )\n",
    "    return scores"
   ]
  },
  {
   "cell_type": "code",
   "execution_count": null,
   "metadata": {
    "colab": {
     "base_uri": "https://localhost:8080/"
    },
    "id": "0PAMs-rUUMjq",
    "outputId": "712cd227-bce4-4f1b-fec3-d8efd721eb67"
   },
   "outputs": [
    {
     "name": "stdout",
     "output_type": "stream",
     "text": [
      "              R2       MAE        MSE      RMSE\n",
      "scores  0.876561  2.873366  12.909305  3.592952\n"
     ]
    }
   ],
   "source": [
    "scores = calculate_scores(y_test, y_pred)\n",
    "print(scores)"
   ]
  },
  {
   "cell_type": "code",
   "execution_count": null,
   "metadata": {
    "id": "AWf8uqcaUOAN"
   },
   "outputs": [],
   "source": []
  }
 ],
 "metadata": {
  "colab": {
   "authorship_tag": "ABX9TyPva3WFaB1uVNrGxXMIWtsk",
   "collapsed_sections": [],
   "include_colab_link": true,
   "name": "AutoKeras-Regression.ipynb",
   "provenance": []
  },
  "kernelspec": {
   "display_name": "Python 3",
   "language": "python",
   "name": "python3"
  },
  "language_info": {
   "codemirror_mode": {
    "name": "ipython",
    "version": 3
   },
   "file_extension": ".py",
   "mimetype": "text/x-python",
   "name": "python",
   "nbconvert_exporter": "python",
   "pygments_lexer": "ipython3",
   "version": "3.9.4"
  }
 },
 "nbformat": 4,
 "nbformat_minor": 4
}
