{
 "cells": [
  {
   "cell_type": "markdown",
   "id": "7ba4a1ae",
   "metadata": {},
   "source": [
    "## K-fold cross validation - Regression Model"
   ]
  },
  {
   "cell_type": "code",
   "execution_count": 1,
   "id": "406e4339",
   "metadata": {},
   "outputs": [],
   "source": [
    "%load_ext lab_black"
   ]
  },
  {
   "cell_type": "code",
   "execution_count": 2,
   "id": "033e2d4d",
   "metadata": {},
   "outputs": [
    {
     "name": "stderr",
     "output_type": "stream",
     "text": [
      "2021-08-30 12:30:46.742982: W tensorflow/stream_executor/platform/default/dso_loader.cc:64] Could not load dynamic library 'libcudart.so.11.0'; dlerror: libcudart.so.11.0: cannot open shared object file: No such file or directory\n",
      "2021-08-30 12:30:46.743070: I tensorflow/stream_executor/cuda/cudart_stub.cc:29] Ignore above cudart dlerror if you do not have a GPU set up on your machine.\n"
     ]
    }
   ],
   "source": [
    "import logging\n",
    "import os\n",
    "import os.path\n",
    "import shutil\n",
    "import tempfile\n",
    "\n",
    "import matplotlib.pyplot as plt\n",
    "import numpy as np\n",
    "import pandas as pd\n",
    "import requests\n",
    "import scipy.stats as stats\n",
    "import seaborn as sns\n",
    "from sklearn.model_selection import train_test_split\n",
    "\n",
    "from ludwig.api import kfold_cross_validate, LudwigModel"
   ]
  },
  {
   "cell_type": "markdown",
   "id": "8c4493a7",
   "metadata": {},
   "source": [
    "### Contstants"
   ]
  },
  {
   "cell_type": "code",
   "execution_count": 3,
   "id": "0b74a9ca",
   "metadata": {},
   "outputs": [],
   "source": [
    "DATA_SET_URL = (\n",
    "    \"http://archive.ics.uci.edu/ml/machine-learning-databases/auto-mpg/auto-mpg.data\"\n",
    ")\n",
    "DATA_SET = \"auto_mpg.data\"\n",
    "RESULTS_DIR = \"results\""
   ]
  },
  {
   "cell_type": "markdown",
   "id": "08268cb7",
   "metadata": {},
   "source": [
    "### Clean out previous results"
   ]
  },
  {
   "cell_type": "code",
   "execution_count": 4,
   "id": "0eb161e9",
   "metadata": {},
   "outputs": [],
   "source": [
    "if os.path.isfile(DATA_SET):\n",
    "    os.remove(DATA_SET)\n",
    "\n",
    "shutil.rmtree(RESULTS_DIR, ignore_errors=True)"
   ]
  },
  {
   "cell_type": "markdown",
   "id": "646bfc51",
   "metadata": {},
   "source": [
    "### Retrieve data from UCI Machine Learning Repository\n",
    "#### Download required data"
   ]
  },
  {
   "cell_type": "code",
   "execution_count": 5,
   "id": "0104be35",
   "metadata": {},
   "outputs": [],
   "source": [
    "r = requests.get(DATA_SET_URL)\n",
    "if r.status_code == 200:\n",
    "    with open(DATA_SET, \"w\") as f:\n",
    "        f.write(r.content.decode(\"utf-8\"))"
   ]
  },
  {
   "cell_type": "markdown",
   "id": "cc5ddbcf",
   "metadata": {},
   "source": [
    "#### Create Pandas DataFrame from downloaded data"
   ]
  },
  {
   "cell_type": "code",
   "execution_count": 6,
   "id": "ecbde1e9",
   "metadata": {},
   "outputs": [
    {
     "data": {
      "text/plain": [
       "(398, 8)"
      ]
     },
     "execution_count": 6,
     "metadata": {},
     "output_type": "execute_result"
    }
   ],
   "source": [
    "raw_df = pd.read_csv(\n",
    "    DATA_SET, header=None, na_values=\"?\", comment=\"\\t\", sep=\" \", skipinitialspace=True\n",
    ")\n",
    "\n",
    "\n",
    "raw_df.columns = [\n",
    "    \"MPG\",\n",
    "    \"Cylinders\",\n",
    "    \"Displacement\",\n",
    "    \"Horsepower\",\n",
    "    \"Weight\",\n",
    "    \"Acceleration\",\n",
    "    \"ModelYear\",\n",
    "    \"Origin\",\n",
    "]\n",
    "raw_df.shape"
   ]
  },
  {
   "cell_type": "code",
   "execution_count": 7,
   "id": "194115dc",
   "metadata": {},
   "outputs": [
    {
     "data": {
      "text/html": [
       "<div>\n",
       "<style scoped>\n",
       "    .dataframe tbody tr th:only-of-type {\n",
       "        vertical-align: middle;\n",
       "    }\n",
       "\n",
       "    .dataframe tbody tr th {\n",
       "        vertical-align: top;\n",
       "    }\n",
       "\n",
       "    .dataframe thead th {\n",
       "        text-align: right;\n",
       "    }\n",
       "</style>\n",
       "<table border=\"1\" class=\"dataframe\">\n",
       "  <thead>\n",
       "    <tr style=\"text-align: right;\">\n",
       "      <th></th>\n",
       "      <th>MPG</th>\n",
       "      <th>Cylinders</th>\n",
       "      <th>Displacement</th>\n",
       "      <th>Horsepower</th>\n",
       "      <th>Weight</th>\n",
       "      <th>Acceleration</th>\n",
       "      <th>ModelYear</th>\n",
       "      <th>Origin</th>\n",
       "    </tr>\n",
       "  </thead>\n",
       "  <tbody>\n",
       "    <tr>\n",
       "      <th>0</th>\n",
       "      <td>18.0</td>\n",
       "      <td>8</td>\n",
       "      <td>307.0</td>\n",
       "      <td>130.0</td>\n",
       "      <td>3504.0</td>\n",
       "      <td>12.0</td>\n",
       "      <td>70</td>\n",
       "      <td>1</td>\n",
       "    </tr>\n",
       "    <tr>\n",
       "      <th>1</th>\n",
       "      <td>15.0</td>\n",
       "      <td>8</td>\n",
       "      <td>350.0</td>\n",
       "      <td>165.0</td>\n",
       "      <td>3693.0</td>\n",
       "      <td>11.5</td>\n",
       "      <td>70</td>\n",
       "      <td>1</td>\n",
       "    </tr>\n",
       "    <tr>\n",
       "      <th>2</th>\n",
       "      <td>18.0</td>\n",
       "      <td>8</td>\n",
       "      <td>318.0</td>\n",
       "      <td>150.0</td>\n",
       "      <td>3436.0</td>\n",
       "      <td>11.0</td>\n",
       "      <td>70</td>\n",
       "      <td>1</td>\n",
       "    </tr>\n",
       "    <tr>\n",
       "      <th>3</th>\n",
       "      <td>16.0</td>\n",
       "      <td>8</td>\n",
       "      <td>304.0</td>\n",
       "      <td>150.0</td>\n",
       "      <td>3433.0</td>\n",
       "      <td>12.0</td>\n",
       "      <td>70</td>\n",
       "      <td>1</td>\n",
       "    </tr>\n",
       "    <tr>\n",
       "      <th>4</th>\n",
       "      <td>17.0</td>\n",
       "      <td>8</td>\n",
       "      <td>302.0</td>\n",
       "      <td>140.0</td>\n",
       "      <td>3449.0</td>\n",
       "      <td>10.5</td>\n",
       "      <td>70</td>\n",
       "      <td>1</td>\n",
       "    </tr>\n",
       "  </tbody>\n",
       "</table>\n",
       "</div>"
      ],
      "text/plain": [
       "    MPG  Cylinders  Displacement  Horsepower  Weight  Acceleration  ModelYear  \\\n",
       "0  18.0          8         307.0       130.0  3504.0          12.0         70   \n",
       "1  15.0          8         350.0       165.0  3693.0          11.5         70   \n",
       "2  18.0          8         318.0       150.0  3436.0          11.0         70   \n",
       "3  16.0          8         304.0       150.0  3433.0          12.0         70   \n",
       "4  17.0          8         302.0       140.0  3449.0          10.5         70   \n",
       "\n",
       "   Origin  \n",
       "0       1  \n",
       "1       1  \n",
       "2       1  \n",
       "3       1  \n",
       "4       1  "
      ]
     },
     "execution_count": 7,
     "metadata": {},
     "output_type": "execute_result"
    }
   ],
   "source": [
    "raw_df.head()"
   ]
  },
  {
   "cell_type": "markdown",
   "id": "ebf0e430",
   "metadata": {},
   "source": [
    "#### Create train/test split"
   ]
  },
  {
   "cell_type": "code",
   "execution_count": 8,
   "id": "a0df9625",
   "metadata": {},
   "outputs": [
    {
     "name": "stdout",
     "output_type": "stream",
     "text": [
      "(318, 8)\n",
      "(80, 8)\n"
     ]
    }
   ],
   "source": [
    "train_df, test_df = train_test_split(raw_df, train_size=0.8, random_state=17)\n",
    "print(train_df.shape)\n",
    "print(test_df.shape)"
   ]
  },
  {
   "cell_type": "markdown",
   "id": "b33f000e",
   "metadata": {},
   "source": [
    "### Setup Ludwig config\n"
   ]
  },
  {
   "cell_type": "code",
   "execution_count": 9,
   "id": "e966e4bb",
   "metadata": {},
   "outputs": [],
   "source": [
    "num_features = [\n",
    "    \"Cylinders\",\n",
    "    \"Displacement\",\n",
    "    \"Horsepower\",\n",
    "    \"Weight\",\n",
    "    \"Acceleration\",\n",
    "    \"ModelYear\",\n",
    "]\n",
    "cat_features = [\"Origin\"]"
   ]
  },
  {
   "cell_type": "markdown",
   "id": "a7bdbfea",
   "metadata": {},
   "source": [
    "#### Create Ludwig input_features"
   ]
  },
  {
   "cell_type": "code",
   "execution_count": 10,
   "id": "ae96c72a",
   "metadata": {},
   "outputs": [],
   "source": [
    "input_features = []\n",
    "# setup input features for numerical variables\n",
    "for p in num_features:\n",
    "    a_feature = {\n",
    "        \"name\": p,\n",
    "        \"type\": \"numerical\",\n",
    "        \"preprocessing\": {\n",
    "            \"missing_value_strategy\": \"fill_with_mean\",\n",
    "            \"normalization\": \"zscore\",\n",
    "        },\n",
    "    }\n",
    "    input_features.append(a_feature)\n",
    "\n",
    "# setkup input features for categorical variables\n",
    "for p in cat_features:\n",
    "    a_feature = {\"name\": p, \"type\": \"category\"}"
   ]
  },
  {
   "cell_type": "markdown",
   "id": "b314700d",
   "metadata": {},
   "source": [
    "#### Create Ludwig output features"
   ]
  },
  {
   "cell_type": "code",
   "execution_count": 11,
   "id": "95a325c4",
   "metadata": {},
   "outputs": [],
   "source": [
    "output_features = [\n",
    "    {\"name\": \"MPG\", \"type\": \"numerical\", \"num_fc_layers\": 2, \"fc_size\": 64}\n",
    "]"
   ]
  },
  {
   "cell_type": "code",
   "execution_count": 12,
   "id": "e9509306",
   "metadata": {},
   "outputs": [
    {
     "data": {
      "text/plain": [
       "{'input_features': [{'name': 'Cylinders',\n",
       "   'type': 'numerical',\n",
       "   'preprocessing': {'missing_value_strategy': 'fill_with_mean',\n",
       "    'normalization': 'zscore'}},\n",
       "  {'name': 'Displacement',\n",
       "   'type': 'numerical',\n",
       "   'preprocessing': {'missing_value_strategy': 'fill_with_mean',\n",
       "    'normalization': 'zscore'}},\n",
       "  {'name': 'Horsepower',\n",
       "   'type': 'numerical',\n",
       "   'preprocessing': {'missing_value_strategy': 'fill_with_mean',\n",
       "    'normalization': 'zscore'}},\n",
       "  {'name': 'Weight',\n",
       "   'type': 'numerical',\n",
       "   'preprocessing': {'missing_value_strategy': 'fill_with_mean',\n",
       "    'normalization': 'zscore'}},\n",
       "  {'name': 'Acceleration',\n",
       "   'type': 'numerical',\n",
       "   'preprocessing': {'missing_value_strategy': 'fill_with_mean',\n",
       "    'normalization': 'zscore'}},\n",
       "  {'name': 'ModelYear',\n",
       "   'type': 'numerical',\n",
       "   'preprocessing': {'missing_value_strategy': 'fill_with_mean',\n",
       "    'normalization': 'zscore'}}],\n",
       " 'output_features': [{'name': 'MPG',\n",
       "   'type': 'numerical',\n",
       "   'num_fc_layers': 2,\n",
       "   'fc_size': 64}],\n",
       " 'training': {'epochs': 100, 'batch_size': 32}}"
      ]
     },
     "execution_count": 12,
     "metadata": {},
     "output_type": "execute_result"
    }
   ],
   "source": [
    "config = {\n",
    "    \"input_features\": input_features,\n",
    "    \"output_features\": output_features,\n",
    "    \"training\": {\"epochs\": 100, \"batch_size\": 32},\n",
    "}\n",
    "config"
   ]
  },
  {
   "cell_type": "markdown",
   "id": "4fa5d7ef",
   "metadata": {},
   "source": [
    "### Perform K-fold Cross Validation analysis"
   ]
  },
  {
   "cell_type": "code",
   "execution_count": 13,
   "id": "14c30240",
   "metadata": {},
   "outputs": [
    {
     "name": "stdout",
     "output_type": "stream",
     "text": [
      "starting 5-fold cross validation\n",
      "training on fold 1\n"
     ]
    },
    {
     "name": "stderr",
     "output_type": "stream",
     "text": [
      "2021-08-30 12:31:09.298717: W tensorflow/stream_executor/platform/default/dso_loader.cc:64] Could not load dynamic library 'libcuda.so.1'; dlerror: libcuda.so.1: cannot open shared object file: No such file or directory\n",
      "2021-08-30 12:31:09.298829: W tensorflow/stream_executor/cuda/cuda_driver.cc:269] failed call to cuInit: UNKNOWN ERROR (303)\n",
      "2021-08-30 12:31:09.299008: I tensorflow/stream_executor/cuda/cuda_diagnostics.cc:156] kernel driver does not appear to be running on this host (a5e58c64dcf3): /proc/driver/nvidia/version does not exist\n",
      "2021-08-30 12:31:11.237499: I tensorflow/core/platform/cpu_feature_guard.cc:142] This TensorFlow binary is optimized with oneAPI Deep Neural Network Library (oneDNN) to use the following CPU instructions in performance-critical operations:  AVX2 FMA\n",
      "To enable them in other operations, rebuild TensorFlow with the appropriate compiler flags.\n",
      "2021-08-30 12:31:18.834282: I tensorflow/compiler/mlir/mlir_graph_optimization_pass.cc:185] None of the MLIR Optimization Passes are enabled (registered 2)\n"
     ]
    },
    {
     "name": "stdout",
     "output_type": "stream",
     "text": [
      "CPU times: user 3min 7s, sys: 16.5 s, total: 3min 23s\n",
      "Wall time: 3min 54s\n"
     ]
    }
   ],
   "source": [
    "%%time\n",
    "with tempfile.TemporaryDirectory() as tmpdir:\n",
    "    data_csv_fp = os.path.join(tmpdir,'train.csv')\n",
    "    train_df.to_csv(data_csv_fp, index=False)\n",
    "\n",
    "    (\n",
    "        kfold_cv_stats, \n",
    "        kfold_split_indices \n",
    "    ) = kfold_cross_validate(\n",
    "        num_folds=5,\n",
    "        config=config,\n",
    "        dataset=data_csv_fp,\n",
    "        output_directory=tmpdir,\n",
    "        logging_level=logging.ERROR\n",
    "    )"
   ]
  },
  {
   "cell_type": "code",
   "execution_count": 14,
   "id": "98e1f5be",
   "metadata": {},
   "outputs": [
    {
     "data": {
      "text/plain": [
       "{'loss_mean': 8.133892,\n",
       " 'loss_std': 2.4823751,\n",
       " 'error_mean': 0.040548533,\n",
       " 'error_std': 0.59294134,\n",
       " 'mean_squared_error_mean': 8.133892,\n",
       " 'mean_squared_error_std': 2.4823751,\n",
       " 'mean_absolute_error_mean': 2.0577884,\n",
       " 'mean_absolute_error_std': 0.27885678,\n",
       " 'r2_mean': 0.86646616,\n",
       " 'r2_std': 0.035243824}"
      ]
     },
     "execution_count": 14,
     "metadata": {},
     "output_type": "execute_result"
    }
   ],
   "source": [
    "kfold_cv_stats[\"overall\"][\"MPG\"]"
   ]
  },
  {
   "cell_type": "markdown",
   "id": "a9146cc3",
   "metadata": {},
   "source": [
    "### Train model and assess model performance"
   ]
  },
  {
   "cell_type": "code",
   "execution_count": 15,
   "id": "17ba93ee",
   "metadata": {},
   "outputs": [],
   "source": [
    "model = LudwigModel(config=config, logging_level=logging.ERROR)"
   ]
  },
  {
   "cell_type": "code",
   "execution_count": 16,
   "id": "a063dfeb",
   "metadata": {},
   "outputs": [
    {
     "name": "stdout",
     "output_type": "stream",
     "text": [
      "CPU times: user 26.6 s, sys: 1.88 s, total: 28.5 s\n",
      "Wall time: 49.4 s\n"
     ]
    }
   ],
   "source": [
    "%%time\n",
    "training_stats = model.train(\n",
    "    training_set=train_df,\n",
    "    output_directory=RESULTS_DIR,\n",
    ")"
   ]
  },
  {
   "cell_type": "code",
   "execution_count": 17,
   "id": "2bd42e65",
   "metadata": {},
   "outputs": [],
   "source": [
    "test_stats, mpg_hat_df, _ = model.evaluate(\n",
    "    dataset=test_df, collect_predictions=True, collect_overall_stats=True\n",
    ")"
   ]
  },
  {
   "cell_type": "code",
   "execution_count": 18,
   "id": "e4436634",
   "metadata": {},
   "outputs": [
    {
     "data": {
      "text/plain": [
       "{'MPG': {'loss': 8.298665,\n",
       "  'error': -0.47260332,\n",
       "  'mean_squared_error': 8.298665,\n",
       "  'mean_absolute_error': 2.228252,\n",
       "  'r2': 0.8559038},\n",
       " 'combined': {'loss': 8.298665}}"
      ]
     },
     "execution_count": 18,
     "metadata": {},
     "output_type": "execute_result"
    }
   ],
   "source": [
    "test_stats"
   ]
  },
  {
   "cell_type": "code",
   "execution_count": 19,
   "id": "e0b7c35f",
   "metadata": {},
   "outputs": [
    {
     "name": "stderr",
     "output_type": "stream",
     "text": [
      "/tmp/Python/python-3.9.6/lib/python3.9/site-packages/seaborn/_decorators.py:36: FutureWarning: Pass the following variables as keyword args: x, y. From version 0.12, the only valid positional argument will be `data`, and passing other arguments without an explicit keyword will result in an error or misinterpretation.\n",
      "  warnings.warn(\n"
     ]
    },
    {
     "data": {
      "image/png": "[encoded data removed]",
      "text/plain": [
       "<Figure size 432x288 with 1 Axes>"
      ]
     },
     "metadata": {
      "needs_background": "light"
     },
     "output_type": "display_data"
    }
   ],
   "source": [
    "a = plt.axes(aspect=\"equal\")\n",
    "sns.scatterplot(test_df[\"MPG\"].values, mpg_hat_df[\"MPG_predictions\"].values, s=50)\n",
    "plt.xlabel(\"True Values [MPG]\")\n",
    "plt.ylabel(\"Predictions [MPG]\")\n",
    "lims = [0, 50]\n",
    "plt.xlim(lims)\n",
    "plt.ylim(lims)\n",
    "_ = plt.plot(lims, lims)"
   ]
  },
  {
   "cell_type": "markdown",
   "id": "c4924612",
   "metadata": {},
   "source": [
    "### Compare K-fold Cross Validation metrics against hold-out test metrics\n",
    "#### Hold-out Test Metrics"
   ]
  },
  {
   "cell_type": "code",
   "execution_count": 20,
   "id": "cf9ef8da",
   "metadata": {},
   "outputs": [
    {
     "data": {
      "text/plain": [
       "{'loss': 8.298665,\n",
       " 'error': -0.47260332,\n",
       " 'mean_squared_error': 8.298665,\n",
       " 'mean_absolute_error': 2.228252,\n",
       " 'r2': 0.8559038}"
      ]
     },
     "execution_count": 20,
     "metadata": {},
     "output_type": "execute_result"
    }
   ],
   "source": [
    "test_stats[\"MPG\"]"
   ]
  },
  {
   "cell_type": "markdown",
   "id": "f392e6ed",
   "metadata": {},
   "source": [
    "#### K-fold Cross Validation Metrics"
   ]
  },
  {
   "cell_type": "code",
   "execution_count": 21,
   "id": "67021db1",
   "metadata": {},
   "outputs": [
    {
     "data": {
      "text/plain": [
       "{'loss_mean': 8.133892,\n",
       " 'loss_std': 2.4823751,\n",
       " 'error_mean': 0.040548533,\n",
       " 'error_std': 0.59294134,\n",
       " 'mean_squared_error_mean': 8.133892,\n",
       " 'mean_squared_error_std': 2.4823751,\n",
       " 'mean_absolute_error_mean': 2.0577884,\n",
       " 'mean_absolute_error_std': 0.27885678,\n",
       " 'r2_mean': 0.86646616,\n",
       " 'r2_std': 0.035243824}"
      ]
     },
     "execution_count": 21,
     "metadata": {},
     "output_type": "execute_result"
    }
   ],
   "source": [
    "kfold_cv_stats[\"overall\"][\"MPG\"]"
   ]
  },
  {
   "cell_type": "code",
   "execution_count": null,
   "id": "d875ed94",
   "metadata": {},
   "outputs": [],
   "source": []
  }
 ],
 "metadata": {
  "kernelspec": {
   "display_name": "Python 3 (ipykernel)",
   "language": "python",
   "name": "python3"
  },
  "language_info": {
   "codemirror_mode": {
    "name": "ipython",
    "version": 3
   },
   "file_extension": ".py",
   "mimetype": "text/x-python",
   "name": "python",
   "nbconvert_exporter": "python",
   "pygments_lexer": "ipython3",
   "version": "3.9.6"
  }
 },
 "nbformat": 4,
 "nbformat_minor": 5
}
